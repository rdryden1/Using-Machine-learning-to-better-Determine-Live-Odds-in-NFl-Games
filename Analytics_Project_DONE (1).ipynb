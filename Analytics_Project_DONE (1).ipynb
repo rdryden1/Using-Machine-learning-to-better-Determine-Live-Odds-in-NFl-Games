{
  "nbformat": 4,
  "nbformat_minor": 0,
  "metadata": {
    "colab": {
      "name": "Analytics Project_DONE.ipynb",
      "provenance": [],
      "collapsed_sections": []
    },
    "kernelspec": {
      "name": "python3",
      "display_name": "Python 3"
    },
    "language_info": {
      "name": "python"
    }
  },
  "cells": [
    {
      "cell_type": "code",
      "execution_count": null,
      "metadata": {
        "id": "il_RYH2hl2-6"
      },
      "outputs": [],
      "source": [
        "#import needed libraries\n",
        "import numpy as np\n",
        "import pandas as pd\n",
        "import matplotlib.pyplot as plt\n",
        "from sklearn.metrics import mean_absolute_error\n",
        "from sklearn.ensemble import RandomForestRegressor # ???\n",
        "from sklearn.svm import SVC\n",
        "from sklearn.model_selection import train_test_split\n",
        "\n",
        "from sklearn.preprocessing import StandardScaler #standard scaler\n",
        "from sklearn.metrics import accuracy_score\n",
        "\n",
        "from numpy import mean\n",
        "from numpy import std\n",
        "from sklearn.datasets import make_classification\n",
        "from sklearn.model_selection import cross_val_score\n",
        "from sklearn.model_selection import RepeatedStratifiedKFold\n",
        "from sklearn.ensemble import RandomForestClassifier\n",
        "\n",
        "from pandas.core.algorithms import diff\n",
        "from sklearn.datasets import make_classification\n",
        "from sklearn.linear_model import LogisticRegression\n",
        "from sklearn.neighbors import KNeighborsClassifier\n",
        "from sklearn.tree import DecisionTreeClassifier\n",
        "from sklearn.svm import SVC\n",
        "from sklearn.naive_bayes import GaussianNB\n",
        "from matplotlib import pyplot\n",
        "\n",
        "from sklearn.metrics import accuracy_score, confusion_matrix, precision_score, recall_score, roc_auc_score, roc_curve, f1_score\n",
        "from sklearn.model_selection import RandomizedSearchCV\n",
        "\n",
        "import seaborn as sns\n",
        "from sklearn.pipeline import Pipeline, make_pipeline\n",
        "\n",
        "from numpy import asarray\n",
        "from sklearn.preprocessing import StandardScaler\n",
        "\n",
        "import warnings\n",
        "warnings.filterwarnings(\"ignore\")"
      ]
    },
    {
      "cell_type": "code",
      "source": [
        "from google.colab import drive\n",
        "drive.mount('/content/drive')"
      ],
      "metadata": {
        "colab": {
          "base_uri": "https://localhost:8080/"
        },
        "id": "zlCPbuNESHR6",
        "outputId": "d91bed5e-227c-4df4-c4a6-0bf3a27b1513"
      },
      "execution_count": null,
      "outputs": [
        {
          "output_type": "stream",
          "name": "stdout",
          "text": [
            "Drive already mounted at /content/drive; to attempt to forcibly remount, call drive.mount(\"/content/drive\", force_remount=True).\n"
          ]
        }
      ]
    },
    {
      "cell_type": "code",
      "source": [
        "#load full data source\n",
        "df_full = pd.read_csv('/content/drive/MyDrive/nfl_full.csv',low_memory=False)"
      ],
      "metadata": {
        "id": "67jXsXSTDvbq"
      },
      "execution_count": null,
      "outputs": []
    },
    {
      "cell_type": "code",
      "source": [
        "df_full.shape"
      ],
      "metadata": {
        "colab": {
          "base_uri": "https://localhost:8080/"
        },
        "id": "qAnmZWwtD4AT",
        "outputId": "b4cf969d-823c-47cd-a4f8-98af8bb73717"
      },
      "execution_count": null,
      "outputs": [
        {
          "output_type": "execute_result",
          "data": {
            "text/plain": [
              "(449371, 255)"
            ]
          },
          "metadata": {},
          "execution_count": 4
        }
      ]
    },
    {
      "cell_type": "code",
      "source": [
        "df_full.describe()"
      ],
      "metadata": {
        "colab": {
          "base_uri": "https://localhost:8080/",
          "height": 394
        },
        "id": "vLYWg0RFEKA5",
        "outputId": "ddb252f7-bf6b-4240-8cf8-1c1d96515a48"
      },
      "execution_count": null,
      "outputs": [
        {
          "output_type": "execute_result",
          "data": {
            "text/plain": [
              "             play_id       game_id   yardline_100  quarter_seconds_remaining  \\\n",
              "count  449371.000000  4.493710e+05  436301.000000              449230.000000   \n",
              "mean     2140.689606  2.013620e+09      49.800658                 413.968820   \n",
              "std      1240.303671  2.842246e+06      25.062131                 279.137304   \n",
              "min        35.000000  2.009091e+09       1.000000                   0.000000   \n",
              "25%      1074.000000  2.011111e+09      31.000000                 152.000000   \n",
              "50%      2125.000000  2.013123e+09      52.000000                 396.000000   \n",
              "75%      3180.000000  2.016103e+09      71.000000                 656.000000   \n",
              "max      5706.000000  2.018122e+09      99.000000                 900.000000   \n",
              "\n",
              "       half_seconds_remaining  game_seconds_remaining    quarter_end  \\\n",
              "count           449206.000000           449208.000000  449371.000000   \n",
              "mean               810.775709             1700.697033       0.017111   \n",
              "std                554.712205             1053.533368       0.129684   \n",
              "min                  0.000000                0.000000       0.000000   \n",
              "25%                286.000000              784.000000       0.000000   \n",
              "50%                797.000000             1800.000000       0.000000   \n",
              "75%               1288.000000             2583.000000       0.000000   \n",
              "max               1800.000000             3600.000000       1.000000   \n",
              "\n",
              "               drive             sp            qtr  ...  assist_tackle_4_team  \\\n",
              "count  449371.000000  449371.000000  449371.000000  ...                   0.0   \n",
              "mean       12.275053       0.072090       2.577696  ...                   NaN   \n",
              "std         7.124626       0.258637       1.129958  ...                   NaN   \n",
              "min         1.000000       0.000000       1.000000  ...                   NaN   \n",
              "25%         6.000000       0.000000       2.000000  ...                   NaN   \n",
              "50%        12.000000       0.000000       3.000000  ...                   NaN   \n",
              "75%        18.000000       0.000000       4.000000  ...                   NaN   \n",
              "max        38.000000       1.000000       5.000000  ...                   NaN   \n",
              "\n",
              "       fumble_recovery_1_yards  fumble_recovery_2_yards   return_yards  \\\n",
              "count              6026.000000                47.000000  449350.000000   \n",
              "mean                  2.302688                 4.808511       1.042773   \n",
              "std                   9.066064                14.961746       5.462253   \n",
              "min                 -34.000000               -16.000000     -18.000000   \n",
              "25%                   0.000000                 0.000000       0.000000   \n",
              "50%                   0.000000                 0.000000       0.000000   \n",
              "75%                   0.000000                 4.000000       0.000000   \n",
              "max                  93.000000                77.000000     109.000000   \n",
              "\n",
              "       penalty_yards  replay_or_challenge  defensive_two_point_attempt  \\\n",
              "count   32618.000000        449371.000000                436497.000000   \n",
              "mean        8.487829             0.001823                     0.000069   \n",
              "std         5.323953             0.042652                     0.008290   \n",
              "min         0.000000             0.000000                     0.000000   \n",
              "25%         5.000000             0.000000                     0.000000   \n",
              "50%         5.000000             0.000000                     0.000000   \n",
              "75%        10.000000             0.000000                     0.000000   \n",
              "max        66.000000             1.000000                     1.000000   \n",
              "\n",
              "       defensive_two_point_conv  defensive_extra_point_attempt  \\\n",
              "count             436497.000000                       436497.0   \n",
              "mean                   0.000014                            0.0   \n",
              "std                    0.003708                            0.0   \n",
              "min                    0.000000                            0.0   \n",
              "25%                    0.000000                            0.0   \n",
              "50%                    0.000000                            0.0   \n",
              "75%                    0.000000                            0.0   \n",
              "max                    1.000000                            0.0   \n",
              "\n",
              "       defensive_extra_point_conv  \n",
              "count                    436497.0  \n",
              "mean                          0.0  \n",
              "std                           0.0  \n",
              "min                           0.0  \n",
              "25%                           0.0  \n",
              "50%                           0.0  \n",
              "75%                           0.0  \n",
              "max                           0.0  \n",
              "\n",
              "[8 rows x 153 columns]"
            ],
            "text/html": [
              "\n",
              "  <div id=\"df-41ee896a-5aa5-43bd-a0f7-b88d1a77c89a\">\n",
              "    <div class=\"colab-df-container\">\n",
              "      <div>\n",
              "<style scoped>\n",
              "    .dataframe tbody tr th:only-of-type {\n",
              "        vertical-align: middle;\n",
              "    }\n",
              "\n",
              "    .dataframe tbody tr th {\n",
              "        vertical-align: top;\n",
              "    }\n",
              "\n",
              "    .dataframe thead th {\n",
              "        text-align: right;\n",
              "    }\n",
              "</style>\n",
              "<table border=\"1\" class=\"dataframe\">\n",
              "  <thead>\n",
              "    <tr style=\"text-align: right;\">\n",
              "      <th></th>\n",
              "      <th>play_id</th>\n",
              "      <th>game_id</th>\n",
              "      <th>yardline_100</th>\n",
              "      <th>quarter_seconds_remaining</th>\n",
              "      <th>half_seconds_remaining</th>\n",
              "      <th>game_seconds_remaining</th>\n",
              "      <th>quarter_end</th>\n",
              "      <th>drive</th>\n",
              "      <th>sp</th>\n",
              "      <th>qtr</th>\n",
              "      <th>...</th>\n",
              "      <th>assist_tackle_4_team</th>\n",
              "      <th>fumble_recovery_1_yards</th>\n",
              "      <th>fumble_recovery_2_yards</th>\n",
              "      <th>return_yards</th>\n",
              "      <th>penalty_yards</th>\n",
              "      <th>replay_or_challenge</th>\n",
              "      <th>defensive_two_point_attempt</th>\n",
              "      <th>defensive_two_point_conv</th>\n",
              "      <th>defensive_extra_point_attempt</th>\n",
              "      <th>defensive_extra_point_conv</th>\n",
              "    </tr>\n",
              "  </thead>\n",
              "  <tbody>\n",
              "    <tr>\n",
              "      <th>count</th>\n",
              "      <td>449371.000000</td>\n",
              "      <td>4.493710e+05</td>\n",
              "      <td>436301.000000</td>\n",
              "      <td>449230.000000</td>\n",
              "      <td>449206.000000</td>\n",
              "      <td>449208.000000</td>\n",
              "      <td>449371.000000</td>\n",
              "      <td>449371.000000</td>\n",
              "      <td>449371.000000</td>\n",
              "      <td>449371.000000</td>\n",
              "      <td>...</td>\n",
              "      <td>0.0</td>\n",
              "      <td>6026.000000</td>\n",
              "      <td>47.000000</td>\n",
              "      <td>449350.000000</td>\n",
              "      <td>32618.000000</td>\n",
              "      <td>449371.000000</td>\n",
              "      <td>436497.000000</td>\n",
              "      <td>436497.000000</td>\n",
              "      <td>436497.0</td>\n",
              "      <td>436497.0</td>\n",
              "    </tr>\n",
              "    <tr>\n",
              "      <th>mean</th>\n",
              "      <td>2140.689606</td>\n",
              "      <td>2.013620e+09</td>\n",
              "      <td>49.800658</td>\n",
              "      <td>413.968820</td>\n",
              "      <td>810.775709</td>\n",
              "      <td>1700.697033</td>\n",
              "      <td>0.017111</td>\n",
              "      <td>12.275053</td>\n",
              "      <td>0.072090</td>\n",
              "      <td>2.577696</td>\n",
              "      <td>...</td>\n",
              "      <td>NaN</td>\n",
              "      <td>2.302688</td>\n",
              "      <td>4.808511</td>\n",
              "      <td>1.042773</td>\n",
              "      <td>8.487829</td>\n",
              "      <td>0.001823</td>\n",
              "      <td>0.000069</td>\n",
              "      <td>0.000014</td>\n",
              "      <td>0.0</td>\n",
              "      <td>0.0</td>\n",
              "    </tr>\n",
              "    <tr>\n",
              "      <th>std</th>\n",
              "      <td>1240.303671</td>\n",
              "      <td>2.842246e+06</td>\n",
              "      <td>25.062131</td>\n",
              "      <td>279.137304</td>\n",
              "      <td>554.712205</td>\n",
              "      <td>1053.533368</td>\n",
              "      <td>0.129684</td>\n",
              "      <td>7.124626</td>\n",
              "      <td>0.258637</td>\n",
              "      <td>1.129958</td>\n",
              "      <td>...</td>\n",
              "      <td>NaN</td>\n",
              "      <td>9.066064</td>\n",
              "      <td>14.961746</td>\n",
              "      <td>5.462253</td>\n",
              "      <td>5.323953</td>\n",
              "      <td>0.042652</td>\n",
              "      <td>0.008290</td>\n",
              "      <td>0.003708</td>\n",
              "      <td>0.0</td>\n",
              "      <td>0.0</td>\n",
              "    </tr>\n",
              "    <tr>\n",
              "      <th>min</th>\n",
              "      <td>35.000000</td>\n",
              "      <td>2.009091e+09</td>\n",
              "      <td>1.000000</td>\n",
              "      <td>0.000000</td>\n",
              "      <td>0.000000</td>\n",
              "      <td>0.000000</td>\n",
              "      <td>0.000000</td>\n",
              "      <td>1.000000</td>\n",
              "      <td>0.000000</td>\n",
              "      <td>1.000000</td>\n",
              "      <td>...</td>\n",
              "      <td>NaN</td>\n",
              "      <td>-34.000000</td>\n",
              "      <td>-16.000000</td>\n",
              "      <td>-18.000000</td>\n",
              "      <td>0.000000</td>\n",
              "      <td>0.000000</td>\n",
              "      <td>0.000000</td>\n",
              "      <td>0.000000</td>\n",
              "      <td>0.0</td>\n",
              "      <td>0.0</td>\n",
              "    </tr>\n",
              "    <tr>\n",
              "      <th>25%</th>\n",
              "      <td>1074.000000</td>\n",
              "      <td>2.011111e+09</td>\n",
              "      <td>31.000000</td>\n",
              "      <td>152.000000</td>\n",
              "      <td>286.000000</td>\n",
              "      <td>784.000000</td>\n",
              "      <td>0.000000</td>\n",
              "      <td>6.000000</td>\n",
              "      <td>0.000000</td>\n",
              "      <td>2.000000</td>\n",
              "      <td>...</td>\n",
              "      <td>NaN</td>\n",
              "      <td>0.000000</td>\n",
              "      <td>0.000000</td>\n",
              "      <td>0.000000</td>\n",
              "      <td>5.000000</td>\n",
              "      <td>0.000000</td>\n",
              "      <td>0.000000</td>\n",
              "      <td>0.000000</td>\n",
              "      <td>0.0</td>\n",
              "      <td>0.0</td>\n",
              "    </tr>\n",
              "    <tr>\n",
              "      <th>50%</th>\n",
              "      <td>2125.000000</td>\n",
              "      <td>2.013123e+09</td>\n",
              "      <td>52.000000</td>\n",
              "      <td>396.000000</td>\n",
              "      <td>797.000000</td>\n",
              "      <td>1800.000000</td>\n",
              "      <td>0.000000</td>\n",
              "      <td>12.000000</td>\n",
              "      <td>0.000000</td>\n",
              "      <td>3.000000</td>\n",
              "      <td>...</td>\n",
              "      <td>NaN</td>\n",
              "      <td>0.000000</td>\n",
              "      <td>0.000000</td>\n",
              "      <td>0.000000</td>\n",
              "      <td>5.000000</td>\n",
              "      <td>0.000000</td>\n",
              "      <td>0.000000</td>\n",
              "      <td>0.000000</td>\n",
              "      <td>0.0</td>\n",
              "      <td>0.0</td>\n",
              "    </tr>\n",
              "    <tr>\n",
              "      <th>75%</th>\n",
              "      <td>3180.000000</td>\n",
              "      <td>2.016103e+09</td>\n",
              "      <td>71.000000</td>\n",
              "      <td>656.000000</td>\n",
              "      <td>1288.000000</td>\n",
              "      <td>2583.000000</td>\n",
              "      <td>0.000000</td>\n",
              "      <td>18.000000</td>\n",
              "      <td>0.000000</td>\n",
              "      <td>4.000000</td>\n",
              "      <td>...</td>\n",
              "      <td>NaN</td>\n",
              "      <td>0.000000</td>\n",
              "      <td>4.000000</td>\n",
              "      <td>0.000000</td>\n",
              "      <td>10.000000</td>\n",
              "      <td>0.000000</td>\n",
              "      <td>0.000000</td>\n",
              "      <td>0.000000</td>\n",
              "      <td>0.0</td>\n",
              "      <td>0.0</td>\n",
              "    </tr>\n",
              "    <tr>\n",
              "      <th>max</th>\n",
              "      <td>5706.000000</td>\n",
              "      <td>2.018122e+09</td>\n",
              "      <td>99.000000</td>\n",
              "      <td>900.000000</td>\n",
              "      <td>1800.000000</td>\n",
              "      <td>3600.000000</td>\n",
              "      <td>1.000000</td>\n",
              "      <td>38.000000</td>\n",
              "      <td>1.000000</td>\n",
              "      <td>5.000000</td>\n",
              "      <td>...</td>\n",
              "      <td>NaN</td>\n",
              "      <td>93.000000</td>\n",
              "      <td>77.000000</td>\n",
              "      <td>109.000000</td>\n",
              "      <td>66.000000</td>\n",
              "      <td>1.000000</td>\n",
              "      <td>1.000000</td>\n",
              "      <td>1.000000</td>\n",
              "      <td>0.0</td>\n",
              "      <td>0.0</td>\n",
              "    </tr>\n",
              "  </tbody>\n",
              "</table>\n",
              "<p>8 rows × 153 columns</p>\n",
              "</div>\n",
              "      <button class=\"colab-df-convert\" onclick=\"convertToInteractive('df-41ee896a-5aa5-43bd-a0f7-b88d1a77c89a')\"\n",
              "              title=\"Convert this dataframe to an interactive table.\"\n",
              "              style=\"display:none;\">\n",
              "        \n",
              "  <svg xmlns=\"http://www.w3.org/2000/svg\" height=\"24px\"viewBox=\"0 0 24 24\"\n",
              "       width=\"24px\">\n",
              "    <path d=\"M0 0h24v24H0V0z\" fill=\"none\"/>\n",
              "    <path d=\"M18.56 5.44l.94 2.06.94-2.06 2.06-.94-2.06-.94-.94-2.06-.94 2.06-2.06.94zm-11 1L8.5 8.5l.94-2.06 2.06-.94-2.06-.94L8.5 2.5l-.94 2.06-2.06.94zm10 10l.94 2.06.94-2.06 2.06-.94-2.06-.94-.94-2.06-.94 2.06-2.06.94z\"/><path d=\"M17.41 7.96l-1.37-1.37c-.4-.4-.92-.59-1.43-.59-.52 0-1.04.2-1.43.59L10.3 9.45l-7.72 7.72c-.78.78-.78 2.05 0 2.83L4 21.41c.39.39.9.59 1.41.59.51 0 1.02-.2 1.41-.59l7.78-7.78 2.81-2.81c.8-.78.8-2.07 0-2.86zM5.41 20L4 18.59l7.72-7.72 1.47 1.35L5.41 20z\"/>\n",
              "  </svg>\n",
              "      </button>\n",
              "      \n",
              "  <style>\n",
              "    .colab-df-container {\n",
              "      display:flex;\n",
              "      flex-wrap:wrap;\n",
              "      gap: 12px;\n",
              "    }\n",
              "\n",
              "    .colab-df-convert {\n",
              "      background-color: #E8F0FE;\n",
              "      border: none;\n",
              "      border-radius: 50%;\n",
              "      cursor: pointer;\n",
              "      display: none;\n",
              "      fill: #1967D2;\n",
              "      height: 32px;\n",
              "      padding: 0 0 0 0;\n",
              "      width: 32px;\n",
              "    }\n",
              "\n",
              "    .colab-df-convert:hover {\n",
              "      background-color: #E2EBFA;\n",
              "      box-shadow: 0px 1px 2px rgba(60, 64, 67, 0.3), 0px 1px 3px 1px rgba(60, 64, 67, 0.15);\n",
              "      fill: #174EA6;\n",
              "    }\n",
              "\n",
              "    [theme=dark] .colab-df-convert {\n",
              "      background-color: #3B4455;\n",
              "      fill: #D2E3FC;\n",
              "    }\n",
              "\n",
              "    [theme=dark] .colab-df-convert:hover {\n",
              "      background-color: #434B5C;\n",
              "      box-shadow: 0px 1px 3px 1px rgba(0, 0, 0, 0.15);\n",
              "      filter: drop-shadow(0px 1px 2px rgba(0, 0, 0, 0.3));\n",
              "      fill: #FFFFFF;\n",
              "    }\n",
              "  </style>\n",
              "\n",
              "      <script>\n",
              "        const buttonEl =\n",
              "          document.querySelector('#df-41ee896a-5aa5-43bd-a0f7-b88d1a77c89a button.colab-df-convert');\n",
              "        buttonEl.style.display =\n",
              "          google.colab.kernel.accessAllowed ? 'block' : 'none';\n",
              "\n",
              "        async function convertToInteractive(key) {\n",
              "          const element = document.querySelector('#df-41ee896a-5aa5-43bd-a0f7-b88d1a77c89a');\n",
              "          const dataTable =\n",
              "            await google.colab.kernel.invokeFunction('convertToInteractive',\n",
              "                                                     [key], {});\n",
              "          if (!dataTable) return;\n",
              "\n",
              "          const docLinkHtml = 'Like what you see? Visit the ' +\n",
              "            '<a target=\"_blank\" href=https://colab.research.google.com/notebooks/data_table.ipynb>data table notebook</a>'\n",
              "            + ' to learn more about interactive tables.';\n",
              "          element.innerHTML = '';\n",
              "          dataTable['output_type'] = 'display_data';\n",
              "          await google.colab.output.renderOutput(dataTable, element);\n",
              "          const docLink = document.createElement('div');\n",
              "          docLink.innerHTML = docLinkHtml;\n",
              "          element.appendChild(docLink);\n",
              "        }\n",
              "      </script>\n",
              "    </div>\n",
              "  </div>\n",
              "  "
            ]
          },
          "metadata": {},
          "execution_count": 5
        }
      ]
    },
    {
      "cell_type": "code",
      "source": [
        "# get summary statistics\n",
        "df_full.dtypes"
      ],
      "metadata": {
        "colab": {
          "base_uri": "https://localhost:8080/"
        },
        "id": "FhNI5BqEEXNZ",
        "outputId": "8bb99649-9d3a-4c92-ec39-c06e73a97d81"
      },
      "execution_count": null,
      "outputs": [
        {
          "output_type": "execute_result",
          "data": {
            "text/plain": [
              "play_id                            int64\n",
              "game_id                            int64\n",
              "home_team                         object\n",
              "away_team                         object\n",
              "posteam                           object\n",
              "                                  ...   \n",
              "penalty_type                      object\n",
              "defensive_two_point_attempt      float64\n",
              "defensive_two_point_conv         float64\n",
              "defensive_extra_point_attempt    float64\n",
              "defensive_extra_point_conv       float64\n",
              "Length: 255, dtype: object"
            ]
          },
          "metadata": {},
          "execution_count": 6
        }
      ]
    },
    {
      "cell_type": "code",
      "source": [
        "#load currated data source\n",
        "df = pd.read_csv('/content/drive/MyDrive/NFL_data.csv',low_memory=False)"
      ],
      "metadata": {
        "id": "gkq0xdMcpP58"
      },
      "execution_count": null,
      "outputs": []
    },
    {
      "cell_type": "code",
      "source": [
        "# check shape\n",
        "df.shape"
      ],
      "metadata": {
        "colab": {
          "base_uri": "https://localhost:8080/"
        },
        "id": "PnptHJ2pAyBT",
        "outputId": "8ba44b8e-d0d3-4d06-c919-3998424ae6b7"
      },
      "execution_count": null,
      "outputs": [
        {
          "output_type": "execute_result",
          "data": {
            "text/plain": [
              "(449371, 95)"
            ]
          },
          "metadata": {},
          "execution_count": 8
        }
      ]
    },
    {
      "cell_type": "code",
      "source": [
        "#using smaller dataset to test\n",
        "#df=df[:250000]"
      ],
      "metadata": {
        "id": "eYVU0XlCdlYf"
      },
      "execution_count": null,
      "outputs": []
    },
    {
      "cell_type": "code",
      "source": [
        "df.shape"
      ],
      "metadata": {
        "colab": {
          "base_uri": "https://localhost:8080/"
        },
        "id": "0-cf-71nebfg",
        "outputId": "dc0b7879-b521-4abe-80cd-7387f451b6ec"
      },
      "execution_count": null,
      "outputs": [
        {
          "output_type": "execute_result",
          "data": {
            "text/plain": [
              "(449371, 95)"
            ]
          },
          "metadata": {},
          "execution_count": 10
        }
      ]
    },
    {
      "cell_type": "code",
      "source": [
        "# explore datatypes\n",
        "df.dtypes"
      ],
      "metadata": {
        "colab": {
          "base_uri": "https://localhost:8080/"
        },
        "id": "E6Y18wIlBUlD",
        "outputId": "233dab57-fbf1-4bf1-d92c-9e1f3240c09d"
      },
      "execution_count": null,
      "outputs": [
        {
          "output_type": "execute_result",
          "data": {
            "text/plain": [
              "play_id                            int64\n",
              "game_id                            int64\n",
              "home_team                         object\n",
              "away_team                         object\n",
              "yardline_100                     float64\n",
              "                                  ...   \n",
              "penalty_type                      object\n",
              "defensive_two_point_attempt      float64\n",
              "defensive_two_point_conv         float64\n",
              "defensive_extra_point_attempt    float64\n",
              "defensive_extra_point_conv       float64\n",
              "Length: 95, dtype: object"
            ]
          },
          "metadata": {},
          "execution_count": 11
        }
      ]
    },
    {
      "cell_type": "code",
      "source": [
        "#look at data sample\n",
        "df.head()"
      ],
      "metadata": {
        "colab": {
          "base_uri": "https://localhost:8080/",
          "height": 299
        },
        "id": "IFIimgRpphmW",
        "outputId": "37eb36b8-dd89-4ab8-cbf0-135895056742"
      },
      "execution_count": null,
      "outputs": [
        {
          "output_type": "execute_result",
          "data": {
            "text/plain": [
              "   play_id     game_id home_team away_team  yardline_100  \\\n",
              "0       46  2009091000       PIT       TEN          30.0   \n",
              "1       68  2009091000       PIT       TEN          58.0   \n",
              "2       92  2009091000       PIT       TEN          53.0   \n",
              "3      113  2009091000       PIT       TEN          56.0   \n",
              "4      139  2009091000       PIT       TEN          56.0   \n",
              "\n",
              "   game_seconds_remaining  drive  qtr  down  goal_to_go  ...  lateral_return  \\\n",
              "0                  3600.0      1    1   NaN         0.0  ...             0.0   \n",
              "1                  3593.0      1    1   1.0         0.0  ...             0.0   \n",
              "2                  3556.0      1    1   2.0         0.0  ...             0.0   \n",
              "3                  3515.0      1    1   3.0         0.0  ...             0.0   \n",
              "4                  3507.0      1    1   4.0         0.0  ...             0.0   \n",
              "\n",
              "   lateral_recovery return_yards  penalty_yards  replay_or_challenge  \\\n",
              "0               0.0         39.0            NaN                    0   \n",
              "1               0.0          0.0            NaN                    0   \n",
              "2               0.0          0.0            NaN                    0   \n",
              "3               0.0          0.0            NaN                    0   \n",
              "4               0.0          0.0            NaN                    0   \n",
              "\n",
              "   penalty_type  defensive_two_point_attempt  defensive_two_point_conv  \\\n",
              "0           NaN                          0.0                       0.0   \n",
              "1           NaN                          0.0                       0.0   \n",
              "2           NaN                          0.0                       0.0   \n",
              "3           NaN                          0.0                       0.0   \n",
              "4           NaN                          0.0                       0.0   \n",
              "\n",
              "   defensive_extra_point_attempt  defensive_extra_point_conv  \n",
              "0                            0.0                         0.0  \n",
              "1                            0.0                         0.0  \n",
              "2                            0.0                         0.0  \n",
              "3                            0.0                         0.0  \n",
              "4                            0.0                         0.0  \n",
              "\n",
              "[5 rows x 95 columns]"
            ],
            "text/html": [
              "\n",
              "  <div id=\"df-913e8e65-16f2-4f83-aa1a-ed5766a401d5\">\n",
              "    <div class=\"colab-df-container\">\n",
              "      <div>\n",
              "<style scoped>\n",
              "    .dataframe tbody tr th:only-of-type {\n",
              "        vertical-align: middle;\n",
              "    }\n",
              "\n",
              "    .dataframe tbody tr th {\n",
              "        vertical-align: top;\n",
              "    }\n",
              "\n",
              "    .dataframe thead th {\n",
              "        text-align: right;\n",
              "    }\n",
              "</style>\n",
              "<table border=\"1\" class=\"dataframe\">\n",
              "  <thead>\n",
              "    <tr style=\"text-align: right;\">\n",
              "      <th></th>\n",
              "      <th>play_id</th>\n",
              "      <th>game_id</th>\n",
              "      <th>home_team</th>\n",
              "      <th>away_team</th>\n",
              "      <th>yardline_100</th>\n",
              "      <th>game_seconds_remaining</th>\n",
              "      <th>drive</th>\n",
              "      <th>qtr</th>\n",
              "      <th>down</th>\n",
              "      <th>goal_to_go</th>\n",
              "      <th>...</th>\n",
              "      <th>lateral_return</th>\n",
              "      <th>lateral_recovery</th>\n",
              "      <th>return_yards</th>\n",
              "      <th>penalty_yards</th>\n",
              "      <th>replay_or_challenge</th>\n",
              "      <th>penalty_type</th>\n",
              "      <th>defensive_two_point_attempt</th>\n",
              "      <th>defensive_two_point_conv</th>\n",
              "      <th>defensive_extra_point_attempt</th>\n",
              "      <th>defensive_extra_point_conv</th>\n",
              "    </tr>\n",
              "  </thead>\n",
              "  <tbody>\n",
              "    <tr>\n",
              "      <th>0</th>\n",
              "      <td>46</td>\n",
              "      <td>2009091000</td>\n",
              "      <td>PIT</td>\n",
              "      <td>TEN</td>\n",
              "      <td>30.0</td>\n",
              "      <td>3600.0</td>\n",
              "      <td>1</td>\n",
              "      <td>1</td>\n",
              "      <td>NaN</td>\n",
              "      <td>0.0</td>\n",
              "      <td>...</td>\n",
              "      <td>0.0</td>\n",
              "      <td>0.0</td>\n",
              "      <td>39.0</td>\n",
              "      <td>NaN</td>\n",
              "      <td>0</td>\n",
              "      <td>NaN</td>\n",
              "      <td>0.0</td>\n",
              "      <td>0.0</td>\n",
              "      <td>0.0</td>\n",
              "      <td>0.0</td>\n",
              "    </tr>\n",
              "    <tr>\n",
              "      <th>1</th>\n",
              "      <td>68</td>\n",
              "      <td>2009091000</td>\n",
              "      <td>PIT</td>\n",
              "      <td>TEN</td>\n",
              "      <td>58.0</td>\n",
              "      <td>3593.0</td>\n",
              "      <td>1</td>\n",
              "      <td>1</td>\n",
              "      <td>1.0</td>\n",
              "      <td>0.0</td>\n",
              "      <td>...</td>\n",
              "      <td>0.0</td>\n",
              "      <td>0.0</td>\n",
              "      <td>0.0</td>\n",
              "      <td>NaN</td>\n",
              "      <td>0</td>\n",
              "      <td>NaN</td>\n",
              "      <td>0.0</td>\n",
              "      <td>0.0</td>\n",
              "      <td>0.0</td>\n",
              "      <td>0.0</td>\n",
              "    </tr>\n",
              "    <tr>\n",
              "      <th>2</th>\n",
              "      <td>92</td>\n",
              "      <td>2009091000</td>\n",
              "      <td>PIT</td>\n",
              "      <td>TEN</td>\n",
              "      <td>53.0</td>\n",
              "      <td>3556.0</td>\n",
              "      <td>1</td>\n",
              "      <td>1</td>\n",
              "      <td>2.0</td>\n",
              "      <td>0.0</td>\n",
              "      <td>...</td>\n",
              "      <td>0.0</td>\n",
              "      <td>0.0</td>\n",
              "      <td>0.0</td>\n",
              "      <td>NaN</td>\n",
              "      <td>0</td>\n",
              "      <td>NaN</td>\n",
              "      <td>0.0</td>\n",
              "      <td>0.0</td>\n",
              "      <td>0.0</td>\n",
              "      <td>0.0</td>\n",
              "    </tr>\n",
              "    <tr>\n",
              "      <th>3</th>\n",
              "      <td>113</td>\n",
              "      <td>2009091000</td>\n",
              "      <td>PIT</td>\n",
              "      <td>TEN</td>\n",
              "      <td>56.0</td>\n",
              "      <td>3515.0</td>\n",
              "      <td>1</td>\n",
              "      <td>1</td>\n",
              "      <td>3.0</td>\n",
              "      <td>0.0</td>\n",
              "      <td>...</td>\n",
              "      <td>0.0</td>\n",
              "      <td>0.0</td>\n",
              "      <td>0.0</td>\n",
              "      <td>NaN</td>\n",
              "      <td>0</td>\n",
              "      <td>NaN</td>\n",
              "      <td>0.0</td>\n",
              "      <td>0.0</td>\n",
              "      <td>0.0</td>\n",
              "      <td>0.0</td>\n",
              "    </tr>\n",
              "    <tr>\n",
              "      <th>4</th>\n",
              "      <td>139</td>\n",
              "      <td>2009091000</td>\n",
              "      <td>PIT</td>\n",
              "      <td>TEN</td>\n",
              "      <td>56.0</td>\n",
              "      <td>3507.0</td>\n",
              "      <td>1</td>\n",
              "      <td>1</td>\n",
              "      <td>4.0</td>\n",
              "      <td>0.0</td>\n",
              "      <td>...</td>\n",
              "      <td>0.0</td>\n",
              "      <td>0.0</td>\n",
              "      <td>0.0</td>\n",
              "      <td>NaN</td>\n",
              "      <td>0</td>\n",
              "      <td>NaN</td>\n",
              "      <td>0.0</td>\n",
              "      <td>0.0</td>\n",
              "      <td>0.0</td>\n",
              "      <td>0.0</td>\n",
              "    </tr>\n",
              "  </tbody>\n",
              "</table>\n",
              "<p>5 rows × 95 columns</p>\n",
              "</div>\n",
              "      <button class=\"colab-df-convert\" onclick=\"convertToInteractive('df-913e8e65-16f2-4f83-aa1a-ed5766a401d5')\"\n",
              "              title=\"Convert this dataframe to an interactive table.\"\n",
              "              style=\"display:none;\">\n",
              "        \n",
              "  <svg xmlns=\"http://www.w3.org/2000/svg\" height=\"24px\"viewBox=\"0 0 24 24\"\n",
              "       width=\"24px\">\n",
              "    <path d=\"M0 0h24v24H0V0z\" fill=\"none\"/>\n",
              "    <path d=\"M18.56 5.44l.94 2.06.94-2.06 2.06-.94-2.06-.94-.94-2.06-.94 2.06-2.06.94zm-11 1L8.5 8.5l.94-2.06 2.06-.94-2.06-.94L8.5 2.5l-.94 2.06-2.06.94zm10 10l.94 2.06.94-2.06 2.06-.94-2.06-.94-.94-2.06-.94 2.06-2.06.94z\"/><path d=\"M17.41 7.96l-1.37-1.37c-.4-.4-.92-.59-1.43-.59-.52 0-1.04.2-1.43.59L10.3 9.45l-7.72 7.72c-.78.78-.78 2.05 0 2.83L4 21.41c.39.39.9.59 1.41.59.51 0 1.02-.2 1.41-.59l7.78-7.78 2.81-2.81c.8-.78.8-2.07 0-2.86zM5.41 20L4 18.59l7.72-7.72 1.47 1.35L5.41 20z\"/>\n",
              "  </svg>\n",
              "      </button>\n",
              "      \n",
              "  <style>\n",
              "    .colab-df-container {\n",
              "      display:flex;\n",
              "      flex-wrap:wrap;\n",
              "      gap: 12px;\n",
              "    }\n",
              "\n",
              "    .colab-df-convert {\n",
              "      background-color: #E8F0FE;\n",
              "      border: none;\n",
              "      border-radius: 50%;\n",
              "      cursor: pointer;\n",
              "      display: none;\n",
              "      fill: #1967D2;\n",
              "      height: 32px;\n",
              "      padding: 0 0 0 0;\n",
              "      width: 32px;\n",
              "    }\n",
              "\n",
              "    .colab-df-convert:hover {\n",
              "      background-color: #E2EBFA;\n",
              "      box-shadow: 0px 1px 2px rgba(60, 64, 67, 0.3), 0px 1px 3px 1px rgba(60, 64, 67, 0.15);\n",
              "      fill: #174EA6;\n",
              "    }\n",
              "\n",
              "    [theme=dark] .colab-df-convert {\n",
              "      background-color: #3B4455;\n",
              "      fill: #D2E3FC;\n",
              "    }\n",
              "\n",
              "    [theme=dark] .colab-df-convert:hover {\n",
              "      background-color: #434B5C;\n",
              "      box-shadow: 0px 1px 3px 1px rgba(0, 0, 0, 0.15);\n",
              "      filter: drop-shadow(0px 1px 2px rgba(0, 0, 0, 0.3));\n",
              "      fill: #FFFFFF;\n",
              "    }\n",
              "  </style>\n",
              "\n",
              "      <script>\n",
              "        const buttonEl =\n",
              "          document.querySelector('#df-913e8e65-16f2-4f83-aa1a-ed5766a401d5 button.colab-df-convert');\n",
              "        buttonEl.style.display =\n",
              "          google.colab.kernel.accessAllowed ? 'block' : 'none';\n",
              "\n",
              "        async function convertToInteractive(key) {\n",
              "          const element = document.querySelector('#df-913e8e65-16f2-4f83-aa1a-ed5766a401d5');\n",
              "          const dataTable =\n",
              "            await google.colab.kernel.invokeFunction('convertToInteractive',\n",
              "                                                     [key], {});\n",
              "          if (!dataTable) return;\n",
              "\n",
              "          const docLinkHtml = 'Like what you see? Visit the ' +\n",
              "            '<a target=\"_blank\" href=https://colab.research.google.com/notebooks/data_table.ipynb>data table notebook</a>'\n",
              "            + ' to learn more about interactive tables.';\n",
              "          element.innerHTML = '';\n",
              "          dataTable['output_type'] = 'display_data';\n",
              "          await google.colab.output.renderOutput(dataTable, element);\n",
              "          const docLink = document.createElement('div');\n",
              "          docLink.innerHTML = docLinkHtml;\n",
              "          element.appendChild(docLink);\n",
              "        }\n",
              "      </script>\n",
              "    </div>\n",
              "  </div>\n",
              "  "
            ]
          },
          "metadata": {},
          "execution_count": 12
        }
      ]
    },
    {
      "cell_type": "code",
      "source": [
        "# check for NaNs\n",
        "df.isnull().sum()"
      ],
      "metadata": {
        "colab": {
          "base_uri": "https://localhost:8080/"
        },
        "id": "_S-fFtK5pja-",
        "outputId": "04199347-8882-476f-f55a-8454738adbe9"
      },
      "execution_count": null,
      "outputs": [
        {
          "output_type": "execute_result",
          "data": {
            "text/plain": [
              "play_id                               0\n",
              "game_id                               0\n",
              "home_team                             0\n",
              "away_team                             0\n",
              "yardline_100                      13070\n",
              "                                  ...  \n",
              "penalty_type                     418232\n",
              "defensive_two_point_attempt       12874\n",
              "defensive_two_point_conv          12874\n",
              "defensive_extra_point_attempt     12874\n",
              "defensive_extra_point_conv        12874\n",
              "Length: 95, dtype: int64"
            ]
          },
          "metadata": {},
          "execution_count": 13
        }
      ]
    },
    {
      "cell_type": "code",
      "source": [
        "# convert NaNs to zeros and check replacement\n",
        "df=df.fillna(0)\n",
        "df.isnull().sum()"
      ],
      "metadata": {
        "colab": {
          "base_uri": "https://localhost:8080/"
        },
        "id": "3LVZh0isBx_5",
        "outputId": "01063bae-b226-460a-8eb4-e8e765253072"
      },
      "execution_count": null,
      "outputs": [
        {
          "output_type": "execute_result",
          "data": {
            "text/plain": [
              "play_id                          0\n",
              "game_id                          0\n",
              "home_team                        0\n",
              "away_team                        0\n",
              "yardline_100                     0\n",
              "                                ..\n",
              "penalty_type                     0\n",
              "defensive_two_point_attempt      0\n",
              "defensive_two_point_conv         0\n",
              "defensive_extra_point_attempt    0\n",
              "defensive_extra_point_conv       0\n",
              "Length: 95, dtype: int64"
            ]
          },
          "metadata": {},
          "execution_count": 14
        }
      ]
    },
    {
      "cell_type": "code",
      "source": [
        "# drop columns specific team information and unnecessary info\n",
        "df.drop(['play_id','home_team','away_team'],axis=1,inplace=True)"
      ],
      "metadata": {
        "id": "Xo-VFzsXqEtP"
      },
      "execution_count": null,
      "outputs": []
    },
    {
      "cell_type": "code",
      "source": [
        "# determine number of games in the sample\n",
        "games=df.game_id.unique()\n",
        "len(games)"
      ],
      "metadata": {
        "colab": {
          "base_uri": "https://localhost:8080/"
        },
        "id": "VO_fX0IaLDOt",
        "outputId": "d485a43a-c76a-4f25-f039-37b571e839e3"
      },
      "execution_count": null,
      "outputs": [
        {
          "output_type": "execute_result",
          "data": {
            "text/plain": [
              "2526"
            ]
          },
          "metadata": {},
          "execution_count": 16
        }
      ]
    },
    {
      "cell_type": "code",
      "source": [
        "# pull first game number\n",
        "games[0]"
      ],
      "metadata": {
        "colab": {
          "base_uri": "https://localhost:8080/"
        },
        "id": "eZhx9abSLNIX",
        "outputId": "2ac2b6f4-a18b-423e-a8e0-8e35c1d88ba4"
      },
      "execution_count": null,
      "outputs": [
        {
          "output_type": "execute_result",
          "data": {
            "text/plain": [
              "2009091000"
            ]
          },
          "metadata": {},
          "execution_count": 17
        }
      ]
    },
    {
      "cell_type": "markdown",
      "source": [
        ""
      ],
      "metadata": {
        "id": "UgpvcZRQbciW"
      }
    },
    {
      "cell_type": "code",
      "source": [
        "#explore data of a single game\n",
        "df1=df[df.game_id==2009091000]\n",
        "df1.head()"
      ],
      "metadata": {
        "colab": {
          "base_uri": "https://localhost:8080/",
          "height": 299
        },
        "id": "J0Im3RFAvtOc",
        "outputId": "65065c57-7e3c-46f1-9982-0f2b2208c683"
      },
      "execution_count": null,
      "outputs": [
        {
          "output_type": "execute_result",
          "data": {
            "text/plain": [
              "      game_id  yardline_100  game_seconds_remaining  drive  qtr  down  \\\n",
              "0  2009091000          30.0                  3600.0      1    1   0.0   \n",
              "1  2009091000          58.0                  3593.0      1    1   1.0   \n",
              "2  2009091000          53.0                  3556.0      1    1   2.0   \n",
              "3  2009091000          56.0                  3515.0      1    1   3.0   \n",
              "4  2009091000          56.0                  3507.0      1    1   4.0   \n",
              "\n",
              "   goal_to_go  ydstogo  ydsnet play_type  ...  lateral_return  \\\n",
              "0         0.0        0       0   kickoff  ...             0.0   \n",
              "1         0.0       10       5      pass  ...             0.0   \n",
              "2         0.0        5       2       run  ...             0.0   \n",
              "3         0.0        8       2      pass  ...             0.0   \n",
              "4         0.0        8       2      punt  ...             0.0   \n",
              "\n",
              "   lateral_recovery  return_yards  penalty_yards  replay_or_challenge  \\\n",
              "0               0.0          39.0            0.0                    0   \n",
              "1               0.0           0.0            0.0                    0   \n",
              "2               0.0           0.0            0.0                    0   \n",
              "3               0.0           0.0            0.0                    0   \n",
              "4               0.0           0.0            0.0                    0   \n",
              "\n",
              "   penalty_type  defensive_two_point_attempt defensive_two_point_conv  \\\n",
              "0             0                          0.0                      0.0   \n",
              "1             0                          0.0                      0.0   \n",
              "2             0                          0.0                      0.0   \n",
              "3             0                          0.0                      0.0   \n",
              "4             0                          0.0                      0.0   \n",
              "\n",
              "  defensive_extra_point_attempt  defensive_extra_point_conv  \n",
              "0                           0.0                         0.0  \n",
              "1                           0.0                         0.0  \n",
              "2                           0.0                         0.0  \n",
              "3                           0.0                         0.0  \n",
              "4                           0.0                         0.0  \n",
              "\n",
              "[5 rows x 92 columns]"
            ],
            "text/html": [
              "\n",
              "  <div id=\"df-ba949954-4162-4a5b-82ff-41e3278a7cbf\">\n",
              "    <div class=\"colab-df-container\">\n",
              "      <div>\n",
              "<style scoped>\n",
              "    .dataframe tbody tr th:only-of-type {\n",
              "        vertical-align: middle;\n",
              "    }\n",
              "\n",
              "    .dataframe tbody tr th {\n",
              "        vertical-align: top;\n",
              "    }\n",
              "\n",
              "    .dataframe thead th {\n",
              "        text-align: right;\n",
              "    }\n",
              "</style>\n",
              "<table border=\"1\" class=\"dataframe\">\n",
              "  <thead>\n",
              "    <tr style=\"text-align: right;\">\n",
              "      <th></th>\n",
              "      <th>game_id</th>\n",
              "      <th>yardline_100</th>\n",
              "      <th>game_seconds_remaining</th>\n",
              "      <th>drive</th>\n",
              "      <th>qtr</th>\n",
              "      <th>down</th>\n",
              "      <th>goal_to_go</th>\n",
              "      <th>ydstogo</th>\n",
              "      <th>ydsnet</th>\n",
              "      <th>play_type</th>\n",
              "      <th>...</th>\n",
              "      <th>lateral_return</th>\n",
              "      <th>lateral_recovery</th>\n",
              "      <th>return_yards</th>\n",
              "      <th>penalty_yards</th>\n",
              "      <th>replay_or_challenge</th>\n",
              "      <th>penalty_type</th>\n",
              "      <th>defensive_two_point_attempt</th>\n",
              "      <th>defensive_two_point_conv</th>\n",
              "      <th>defensive_extra_point_attempt</th>\n",
              "      <th>defensive_extra_point_conv</th>\n",
              "    </tr>\n",
              "  </thead>\n",
              "  <tbody>\n",
              "    <tr>\n",
              "      <th>0</th>\n",
              "      <td>2009091000</td>\n",
              "      <td>30.0</td>\n",
              "      <td>3600.0</td>\n",
              "      <td>1</td>\n",
              "      <td>1</td>\n",
              "      <td>0.0</td>\n",
              "      <td>0.0</td>\n",
              "      <td>0</td>\n",
              "      <td>0</td>\n",
              "      <td>kickoff</td>\n",
              "      <td>...</td>\n",
              "      <td>0.0</td>\n",
              "      <td>0.0</td>\n",
              "      <td>39.0</td>\n",
              "      <td>0.0</td>\n",
              "      <td>0</td>\n",
              "      <td>0</td>\n",
              "      <td>0.0</td>\n",
              "      <td>0.0</td>\n",
              "      <td>0.0</td>\n",
              "      <td>0.0</td>\n",
              "    </tr>\n",
              "    <tr>\n",
              "      <th>1</th>\n",
              "      <td>2009091000</td>\n",
              "      <td>58.0</td>\n",
              "      <td>3593.0</td>\n",
              "      <td>1</td>\n",
              "      <td>1</td>\n",
              "      <td>1.0</td>\n",
              "      <td>0.0</td>\n",
              "      <td>10</td>\n",
              "      <td>5</td>\n",
              "      <td>pass</td>\n",
              "      <td>...</td>\n",
              "      <td>0.0</td>\n",
              "      <td>0.0</td>\n",
              "      <td>0.0</td>\n",
              "      <td>0.0</td>\n",
              "      <td>0</td>\n",
              "      <td>0</td>\n",
              "      <td>0.0</td>\n",
              "      <td>0.0</td>\n",
              "      <td>0.0</td>\n",
              "      <td>0.0</td>\n",
              "    </tr>\n",
              "    <tr>\n",
              "      <th>2</th>\n",
              "      <td>2009091000</td>\n",
              "      <td>53.0</td>\n",
              "      <td>3556.0</td>\n",
              "      <td>1</td>\n",
              "      <td>1</td>\n",
              "      <td>2.0</td>\n",
              "      <td>0.0</td>\n",
              "      <td>5</td>\n",
              "      <td>2</td>\n",
              "      <td>run</td>\n",
              "      <td>...</td>\n",
              "      <td>0.0</td>\n",
              "      <td>0.0</td>\n",
              "      <td>0.0</td>\n",
              "      <td>0.0</td>\n",
              "      <td>0</td>\n",
              "      <td>0</td>\n",
              "      <td>0.0</td>\n",
              "      <td>0.0</td>\n",
              "      <td>0.0</td>\n",
              "      <td>0.0</td>\n",
              "    </tr>\n",
              "    <tr>\n",
              "      <th>3</th>\n",
              "      <td>2009091000</td>\n",
              "      <td>56.0</td>\n",
              "      <td>3515.0</td>\n",
              "      <td>1</td>\n",
              "      <td>1</td>\n",
              "      <td>3.0</td>\n",
              "      <td>0.0</td>\n",
              "      <td>8</td>\n",
              "      <td>2</td>\n",
              "      <td>pass</td>\n",
              "      <td>...</td>\n",
              "      <td>0.0</td>\n",
              "      <td>0.0</td>\n",
              "      <td>0.0</td>\n",
              "      <td>0.0</td>\n",
              "      <td>0</td>\n",
              "      <td>0</td>\n",
              "      <td>0.0</td>\n",
              "      <td>0.0</td>\n",
              "      <td>0.0</td>\n",
              "      <td>0.0</td>\n",
              "    </tr>\n",
              "    <tr>\n",
              "      <th>4</th>\n",
              "      <td>2009091000</td>\n",
              "      <td>56.0</td>\n",
              "      <td>3507.0</td>\n",
              "      <td>1</td>\n",
              "      <td>1</td>\n",
              "      <td>4.0</td>\n",
              "      <td>0.0</td>\n",
              "      <td>8</td>\n",
              "      <td>2</td>\n",
              "      <td>punt</td>\n",
              "      <td>...</td>\n",
              "      <td>0.0</td>\n",
              "      <td>0.0</td>\n",
              "      <td>0.0</td>\n",
              "      <td>0.0</td>\n",
              "      <td>0</td>\n",
              "      <td>0</td>\n",
              "      <td>0.0</td>\n",
              "      <td>0.0</td>\n",
              "      <td>0.0</td>\n",
              "      <td>0.0</td>\n",
              "    </tr>\n",
              "  </tbody>\n",
              "</table>\n",
              "<p>5 rows × 92 columns</p>\n",
              "</div>\n",
              "      <button class=\"colab-df-convert\" onclick=\"convertToInteractive('df-ba949954-4162-4a5b-82ff-41e3278a7cbf')\"\n",
              "              title=\"Convert this dataframe to an interactive table.\"\n",
              "              style=\"display:none;\">\n",
              "        \n",
              "  <svg xmlns=\"http://www.w3.org/2000/svg\" height=\"24px\"viewBox=\"0 0 24 24\"\n",
              "       width=\"24px\">\n",
              "    <path d=\"M0 0h24v24H0V0z\" fill=\"none\"/>\n",
              "    <path d=\"M18.56 5.44l.94 2.06.94-2.06 2.06-.94-2.06-.94-.94-2.06-.94 2.06-2.06.94zm-11 1L8.5 8.5l.94-2.06 2.06-.94-2.06-.94L8.5 2.5l-.94 2.06-2.06.94zm10 10l.94 2.06.94-2.06 2.06-.94-2.06-.94-.94-2.06-.94 2.06-2.06.94z\"/><path d=\"M17.41 7.96l-1.37-1.37c-.4-.4-.92-.59-1.43-.59-.52 0-1.04.2-1.43.59L10.3 9.45l-7.72 7.72c-.78.78-.78 2.05 0 2.83L4 21.41c.39.39.9.59 1.41.59.51 0 1.02-.2 1.41-.59l7.78-7.78 2.81-2.81c.8-.78.8-2.07 0-2.86zM5.41 20L4 18.59l7.72-7.72 1.47 1.35L5.41 20z\"/>\n",
              "  </svg>\n",
              "      </button>\n",
              "      \n",
              "  <style>\n",
              "    .colab-df-container {\n",
              "      display:flex;\n",
              "      flex-wrap:wrap;\n",
              "      gap: 12px;\n",
              "    }\n",
              "\n",
              "    .colab-df-convert {\n",
              "      background-color: #E8F0FE;\n",
              "      border: none;\n",
              "      border-radius: 50%;\n",
              "      cursor: pointer;\n",
              "      display: none;\n",
              "      fill: #1967D2;\n",
              "      height: 32px;\n",
              "      padding: 0 0 0 0;\n",
              "      width: 32px;\n",
              "    }\n",
              "\n",
              "    .colab-df-convert:hover {\n",
              "      background-color: #E2EBFA;\n",
              "      box-shadow: 0px 1px 2px rgba(60, 64, 67, 0.3), 0px 1px 3px 1px rgba(60, 64, 67, 0.15);\n",
              "      fill: #174EA6;\n",
              "    }\n",
              "\n",
              "    [theme=dark] .colab-df-convert {\n",
              "      background-color: #3B4455;\n",
              "      fill: #D2E3FC;\n",
              "    }\n",
              "\n",
              "    [theme=dark] .colab-df-convert:hover {\n",
              "      background-color: #434B5C;\n",
              "      box-shadow: 0px 1px 3px 1px rgba(0, 0, 0, 0.15);\n",
              "      filter: drop-shadow(0px 1px 2px rgba(0, 0, 0, 0.3));\n",
              "      fill: #FFFFFF;\n",
              "    }\n",
              "  </style>\n",
              "\n",
              "      <script>\n",
              "        const buttonEl =\n",
              "          document.querySelector('#df-ba949954-4162-4a5b-82ff-41e3278a7cbf button.colab-df-convert');\n",
              "        buttonEl.style.display =\n",
              "          google.colab.kernel.accessAllowed ? 'block' : 'none';\n",
              "\n",
              "        async function convertToInteractive(key) {\n",
              "          const element = document.querySelector('#df-ba949954-4162-4a5b-82ff-41e3278a7cbf');\n",
              "          const dataTable =\n",
              "            await google.colab.kernel.invokeFunction('convertToInteractive',\n",
              "                                                     [key], {});\n",
              "          if (!dataTable) return;\n",
              "\n",
              "          const docLinkHtml = 'Like what you see? Visit the ' +\n",
              "            '<a target=\"_blank\" href=https://colab.research.google.com/notebooks/data_table.ipynb>data table notebook</a>'\n",
              "            + ' to learn more about interactive tables.';\n",
              "          element.innerHTML = '';\n",
              "          dataTable['output_type'] = 'display_data';\n",
              "          await google.colab.output.renderOutput(dataTable, element);\n",
              "          const docLink = document.createElement('div');\n",
              "          docLink.innerHTML = docLinkHtml;\n",
              "          element.appendChild(docLink);\n",
              "        }\n",
              "      </script>\n",
              "    </div>\n",
              "  </div>\n",
              "  "
            ]
          },
          "metadata": {},
          "execution_count": 18
        }
      ]
    },
    {
      "cell_type": "code",
      "source": [
        "#let's look at a single game\n",
        "plt.rcParams[\"figure.figsize\"] = (20,3)\n",
        "df_plot=df1[['yardline_100']]\n",
        "df_plot.plot()\n",
        "plt.rcParams[\"figure.figsize\"] = plt.rcParamsDefault[\"figure.figsize\"]"
      ],
      "metadata": {
        "colab": {
          "base_uri": "https://localhost:8080/",
          "height": 211
        },
        "id": "U9AWsydpDx8T",
        "outputId": "73cd9b3e-efde-4889-aa90-98ae74e9b4b3"
      },
      "execution_count": null,
      "outputs": [
        {
          "output_type": "display_data",
          "data": {
            "text/plain": [
              "<Figure size 1440x216 with 1 Axes>"
            ],
            "image/png": "[encoded data removed]"
          },
          "metadata": {
            "needs_background": "light"
          }
        }
      ]
    },
    {
      "cell_type": "code",
      "source": [
        "# determine outcome of each game to create a y (outcome) variable\n",
        "game_results=df.groupby('game_id')[['total_home_score','total_away_score']].max()\n",
        "def f(row):\n",
        "  if row.total_home_score > row.total_away_score:\n",
        "    return 1\n",
        "  else:\n",
        "      return 0\n",
        "\n",
        "game_results['home_team_wins']=game_results.apply(f,axis=1)"
      ],
      "metadata": {
        "id": "-kp_5pDMEt8h"
      },
      "execution_count": null,
      "outputs": []
    },
    {
      "cell_type": "code",
      "source": [
        "game_results.head()"
      ],
      "metadata": {
        "colab": {
          "base_uri": "https://localhost:8080/",
          "height": 237
        },
        "id": "5VZeFqrW5bTS",
        "outputId": "7857b47c-8324-456c-e5fb-0e703057da09"
      },
      "execution_count": null,
      "outputs": [
        {
          "output_type": "execute_result",
          "data": {
            "text/plain": [
              "            total_home_score  total_away_score  home_team_wins\n",
              "game_id                                                       \n",
              "2009091000                13                10               1\n",
              "2009091300                19                 7               1\n",
              "2009091301                38                23               1\n",
              "2009091302                10                36               0\n",
              "2009091303                 7                12               0"
            ],
            "text/html": [
              "\n",
              "  <div id=\"df-a2e17a23-afbe-4dac-81b6-7a651e515a80\">\n",
              "    <div class=\"colab-df-container\">\n",
              "      <div>\n",
              "<style scoped>\n",
              "    .dataframe tbody tr th:only-of-type {\n",
              "        vertical-align: middle;\n",
              "    }\n",
              "\n",
              "    .dataframe tbody tr th {\n",
              "        vertical-align: top;\n",
              "    }\n",
              "\n",
              "    .dataframe thead th {\n",
              "        text-align: right;\n",
              "    }\n",
              "</style>\n",
              "<table border=\"1\" class=\"dataframe\">\n",
              "  <thead>\n",
              "    <tr style=\"text-align: right;\">\n",
              "      <th></th>\n",
              "      <th>total_home_score</th>\n",
              "      <th>total_away_score</th>\n",
              "      <th>home_team_wins</th>\n",
              "    </tr>\n",
              "    <tr>\n",
              "      <th>game_id</th>\n",
              "      <th></th>\n",
              "      <th></th>\n",
              "      <th></th>\n",
              "    </tr>\n",
              "  </thead>\n",
              "  <tbody>\n",
              "    <tr>\n",
              "      <th>2009091000</th>\n",
              "      <td>13</td>\n",
              "      <td>10</td>\n",
              "      <td>1</td>\n",
              "    </tr>\n",
              "    <tr>\n",
              "      <th>2009091300</th>\n",
              "      <td>19</td>\n",
              "      <td>7</td>\n",
              "      <td>1</td>\n",
              "    </tr>\n",
              "    <tr>\n",
              "      <th>2009091301</th>\n",
              "      <td>38</td>\n",
              "      <td>23</td>\n",
              "      <td>1</td>\n",
              "    </tr>\n",
              "    <tr>\n",
              "      <th>2009091302</th>\n",
              "      <td>10</td>\n",
              "      <td>36</td>\n",
              "      <td>0</td>\n",
              "    </tr>\n",
              "    <tr>\n",
              "      <th>2009091303</th>\n",
              "      <td>7</td>\n",
              "      <td>12</td>\n",
              "      <td>0</td>\n",
              "    </tr>\n",
              "  </tbody>\n",
              "</table>\n",
              "</div>\n",
              "      <button class=\"colab-df-convert\" onclick=\"convertToInteractive('df-a2e17a23-afbe-4dac-81b6-7a651e515a80')\"\n",
              "              title=\"Convert this dataframe to an interactive table.\"\n",
              "              style=\"display:none;\">\n",
              "        \n",
              "  <svg xmlns=\"http://www.w3.org/2000/svg\" height=\"24px\"viewBox=\"0 0 24 24\"\n",
              "       width=\"24px\">\n",
              "    <path d=\"M0 0h24v24H0V0z\" fill=\"none\"/>\n",
              "    <path d=\"M18.56 5.44l.94 2.06.94-2.06 2.06-.94-2.06-.94-.94-2.06-.94 2.06-2.06.94zm-11 1L8.5 8.5l.94-2.06 2.06-.94-2.06-.94L8.5 2.5l-.94 2.06-2.06.94zm10 10l.94 2.06.94-2.06 2.06-.94-2.06-.94-.94-2.06-.94 2.06-2.06.94z\"/><path d=\"M17.41 7.96l-1.37-1.37c-.4-.4-.92-.59-1.43-.59-.52 0-1.04.2-1.43.59L10.3 9.45l-7.72 7.72c-.78.78-.78 2.05 0 2.83L4 21.41c.39.39.9.59 1.41.59.51 0 1.02-.2 1.41-.59l7.78-7.78 2.81-2.81c.8-.78.8-2.07 0-2.86zM5.41 20L4 18.59l7.72-7.72 1.47 1.35L5.41 20z\"/>\n",
              "  </svg>\n",
              "      </button>\n",
              "      \n",
              "  <style>\n",
              "    .colab-df-container {\n",
              "      display:flex;\n",
              "      flex-wrap:wrap;\n",
              "      gap: 12px;\n",
              "    }\n",
              "\n",
              "    .colab-df-convert {\n",
              "      background-color: #E8F0FE;\n",
              "      border: none;\n",
              "      border-radius: 50%;\n",
              "      cursor: pointer;\n",
              "      display: none;\n",
              "      fill: #1967D2;\n",
              "      height: 32px;\n",
              "      padding: 0 0 0 0;\n",
              "      width: 32px;\n",
              "    }\n",
              "\n",
              "    .colab-df-convert:hover {\n",
              "      background-color: #E2EBFA;\n",
              "      box-shadow: 0px 1px 2px rgba(60, 64, 67, 0.3), 0px 1px 3px 1px rgba(60, 64, 67, 0.15);\n",
              "      fill: #174EA6;\n",
              "    }\n",
              "\n",
              "    [theme=dark] .colab-df-convert {\n",
              "      background-color: #3B4455;\n",
              "      fill: #D2E3FC;\n",
              "    }\n",
              "\n",
              "    [theme=dark] .colab-df-convert:hover {\n",
              "      background-color: #434B5C;\n",
              "      box-shadow: 0px 1px 3px 1px rgba(0, 0, 0, 0.15);\n",
              "      filter: drop-shadow(0px 1px 2px rgba(0, 0, 0, 0.3));\n",
              "      fill: #FFFFFF;\n",
              "    }\n",
              "  </style>\n",
              "\n",
              "      <script>\n",
              "        const buttonEl =\n",
              "          document.querySelector('#df-a2e17a23-afbe-4dac-81b6-7a651e515a80 button.colab-df-convert');\n",
              "        buttonEl.style.display =\n",
              "          google.colab.kernel.accessAllowed ? 'block' : 'none';\n",
              "\n",
              "        async function convertToInteractive(key) {\n",
              "          const element = document.querySelector('#df-a2e17a23-afbe-4dac-81b6-7a651e515a80');\n",
              "          const dataTable =\n",
              "            await google.colab.kernel.invokeFunction('convertToInteractive',\n",
              "                                                     [key], {});\n",
              "          if (!dataTable) return;\n",
              "\n",
              "          const docLinkHtml = 'Like what you see? Visit the ' +\n",
              "            '<a target=\"_blank\" href=https://colab.research.google.com/notebooks/data_table.ipynb>data table notebook</a>'\n",
              "            + ' to learn more about interactive tables.';\n",
              "          element.innerHTML = '';\n",
              "          dataTable['output_type'] = 'display_data';\n",
              "          await google.colab.output.renderOutput(dataTable, element);\n",
              "          const docLink = document.createElement('div');\n",
              "          docLink.innerHTML = docLinkHtml;\n",
              "          element.appendChild(docLink);\n",
              "        }\n",
              "      </script>\n",
              "    </div>\n",
              "  </div>\n",
              "  "
            ]
          },
          "metadata": {},
          "execution_count": 21
        }
      ]
    },
    {
      "cell_type": "code",
      "source": [
        "# get list of columns with dtype of object\n",
        "col_obj=df.select_dtypes(include=['object']).columns.tolist()\n",
        "col_obj"
      ],
      "metadata": {
        "colab": {
          "base_uri": "https://localhost:8080/"
        },
        "id": "Wwt1NycpZAUw",
        "outputId": "9c143038-b980-4333-92a2-c3c10f96836b"
      },
      "execution_count": null,
      "outputs": [
        {
          "output_type": "execute_result",
          "data": {
            "text/plain": [
              "['play_type',\n",
              " 'pass_length',\n",
              " 'pass_location',\n",
              " 'run_location',\n",
              " 'run_gap',\n",
              " 'field_goal_result',\n",
              " 'extra_point_result',\n",
              " 'penalty_type']"
            ]
          },
          "metadata": {},
          "execution_count": 22
        }
      ]
    },
    {
      "cell_type": "code",
      "source": [
        "#get dummies for categorical data\n",
        "df=pd.get_dummies(df,drop_first=True)"
      ],
      "metadata": {
        "id": "e8F8lVAqZAQn"
      },
      "execution_count": null,
      "outputs": []
    },
    {
      "cell_type": "code",
      "source": [
        "#check to see if all columns are numeric\n",
        "df.dtypes"
      ],
      "metadata": {
        "colab": {
          "base_uri": "https://localhost:8080/"
        },
        "id": "BmaIdaeob6cm",
        "outputId": "8d8bd8b2-ab8b-4a47-e2b4-e6187c14aaab"
      },
      "execution_count": null,
      "outputs": [
        {
          "output_type": "execute_result",
          "data": {
            "text/plain": [
              "game_id                                   int64\n",
              "yardline_100                            float64\n",
              "game_seconds_remaining                  float64\n",
              "drive                                     int64\n",
              "qtr                                       int64\n",
              "                                         ...   \n",
              "penalty_type_Short Free Kick              uint8\n",
              "penalty_type_Taunting                     uint8\n",
              "penalty_type_Tripping                     uint8\n",
              "penalty_type_Unnecessary Roughness        uint8\n",
              "penalty_type_Unsportsmanlike Conduct      uint8\n",
              "Length: 175, dtype: object"
            ]
          },
          "metadata": {},
          "execution_count": 24
        }
      ]
    },
    {
      "cell_type": "code",
      "source": [
        "#function to spread out vertical data to horizontal position\n",
        "#puts all data from a single game into a single row\n",
        "def compress_game(data, plays):\n",
        "  data.drop('game_id',axis=1,inplace=True)\n",
        "  n_vars = data.shape[1]\n",
        "  col_names=data.columns.to_list()\n",
        "  cols, names = list(), list()\n",
        "  for i in range(plays):\n",
        "    cols.append(data.shift(-i))\n",
        "    if i == 0:\n",
        "      names += [('%s(t)' % (col_names[j])) for j in range(n_vars)]\n",
        "    else:\n",
        "      names += [('%s(t+%d)' % (col_names[j], i)) for j in range(n_vars)]\n",
        "  agg=pd.concat(cols, axis=1)\n",
        "  agg.columns = names\n",
        "  return pd.DataFrame(agg.iloc[0,:]).transpose()"
      ],
      "metadata": {
        "id": "EGDe85_mZAIf"
      },
      "execution_count": null,
      "outputs": []
    },
    {
      "cell_type": "code",
      "source": [
        "#convert all games into single row format \n",
        "def process_all_games(df,plays):\n",
        "  games=df.game_id.unique()\n",
        "  df_set=pd.DataFrame()\n",
        "  for game in games:\n",
        "    df_game=df[df.game_id==game].iloc[0:plays,:]\n",
        "    df_row=compress_game(df_game,plays=plays)\n",
        "    df_set=pd.concat([df_set,df_row], axis=0)\n",
        "  return df_set"
      ],
      "metadata": {
        "id": "vknrbLALY_96"
      },
      "execution_count": null,
      "outputs": []
    },
    {
      "cell_type": "code",
      "source": [
        "# call function to process all games\n",
        "# 1st argumenet is df, 2nd is number of plays used\n",
        "no_of_plays=100\n",
        "ddf = process_all_games(df,no_of_plays)"
      ],
      "metadata": {
        "id": "5fc8lWnFafnS"
      },
      "execution_count": null,
      "outputs": []
    },
    {
      "cell_type": "code",
      "source": [
        "ddf.shape"
      ],
      "metadata": {
        "colab": {
          "base_uri": "https://localhost:8080/"
        },
        "id": "1DpkobdE1me4",
        "outputId": "78ce4e7f-298a-4d2d-ebff-c83d86d0b12b"
      },
      "execution_count": null,
      "outputs": [
        {
          "output_type": "execute_result",
          "data": {
            "text/plain": [
              "(2526, 17400)"
            ]
          },
          "metadata": {},
          "execution_count": 28
        }
      ]
    },
    {
      "cell_type": "code",
      "source": [
        "# reset index and display compressed datafile\n",
        "ddf=ddf.reset_index()\n",
        "del ddf['index']\n",
        "ddf.head()"
      ],
      "metadata": {
        "colab": {
          "base_uri": "https://localhost:8080/",
          "height": 334
        },
        "id": "oRN2ePULaZXO",
        "outputId": "b97b1f7f-75bc-470b-95d7-2cb28ab35065"
      },
      "execution_count": null,
      "outputs": [
        {
          "output_type": "execute_result",
          "data": {
            "text/plain": [
              "   yardline_100(t)  game_seconds_remaining(t)  drive(t)  qtr(t)  down(t)  \\\n",
              "0             30.0                     3600.0       1.0     1.0      0.0   \n",
              "1             30.0                     3600.0       1.0     1.0      0.0   \n",
              "2             30.0                     3600.0       1.0     1.0      0.0   \n",
              "3             30.0                     3600.0       1.0     1.0      0.0   \n",
              "4             30.0                     3600.0       1.0     1.0      0.0   \n",
              "\n",
              "   goal_to_go(t)  ydstogo(t)  ydsnet(t)  yards_gained(t)  shotgun(t)  ...  \\\n",
              "0            0.0         0.0        0.0              0.0         0.0  ...   \n",
              "1            0.0         0.0       31.0              0.0         0.0  ...   \n",
              "2            0.0         0.0        0.0              0.0         0.0  ...   \n",
              "3            0.0         0.0        0.0              0.0         0.0  ...   \n",
              "4            0.0         0.0        0.0              0.0         0.0  ...   \n",
              "\n",
              "   penalty_type_Player Out of Bounds on Kick(t+99)  \\\n",
              "0                                              0.0   \n",
              "1                                              0.0   \n",
              "2                                              0.0   \n",
              "3                                              0.0   \n",
              "4                                              0.0   \n",
              "\n",
              "   penalty_type_Player Out of Bounds on Punt(t+99)  \\\n",
              "0                                              0.0   \n",
              "1                                              0.0   \n",
              "2                                              0.0   \n",
              "3                                              0.0   \n",
              "4                                              0.0   \n",
              "\n",
              "   penalty_type_Roughing the Kicker(t+99)  \\\n",
              "0                                     0.0   \n",
              "1                                     0.0   \n",
              "2                                     0.0   \n",
              "3                                     0.0   \n",
              "4                                     0.0   \n",
              "\n",
              "   penalty_type_Roughing the Passer(t+99)  \\\n",
              "0                                     0.0   \n",
              "1                                     0.0   \n",
              "2                                     0.0   \n",
              "3                                     0.0   \n",
              "4                                     0.0   \n",
              "\n",
              "   penalty_type_Running Into the Kicker(t+99)  \\\n",
              "0                                         0.0   \n",
              "1                                         0.0   \n",
              "2                                         0.0   \n",
              "3                                         0.0   \n",
              "4                                         0.0   \n",
              "\n",
              "   penalty_type_Short Free Kick(t+99)  penalty_type_Taunting(t+99)  \\\n",
              "0                                 0.0                          0.0   \n",
              "1                                 0.0                          0.0   \n",
              "2                                 0.0                          0.0   \n",
              "3                                 0.0                          0.0   \n",
              "4                                 0.0                          0.0   \n",
              "\n",
              "   penalty_type_Tripping(t+99)  penalty_type_Unnecessary Roughness(t+99)  \\\n",
              "0                          0.0                                       0.0   \n",
              "1                          0.0                                       0.0   \n",
              "2                          0.0                                       0.0   \n",
              "3                          0.0                                       0.0   \n",
              "4                          0.0                                       0.0   \n",
              "\n",
              "   penalty_type_Unsportsmanlike Conduct(t+99)  \n",
              "0                                         0.0  \n",
              "1                                         0.0  \n",
              "2                                         0.0  \n",
              "3                                         0.0  \n",
              "4                                         0.0  \n",
              "\n",
              "[5 rows x 17400 columns]"
            ],
            "text/html": [
              "\n",
              "  <div id=\"df-3adc1d28-4519-4856-8763-d91ce71fddc3\">\n",
              "    <div class=\"colab-df-container\">\n",
              "      <div>\n",
              "<style scoped>\n",
              "    .dataframe tbody tr th:only-of-type {\n",
              "        vertical-align: middle;\n",
              "    }\n",
              "\n",
              "    .dataframe tbody tr th {\n",
              "        vertical-align: top;\n",
              "    }\n",
              "\n",
              "    .dataframe thead th {\n",
              "        text-align: right;\n",
              "    }\n",
              "</style>\n",
              "<table border=\"1\" class=\"dataframe\">\n",
              "  <thead>\n",
              "    <tr style=\"text-align: right;\">\n",
              "      <th></th>\n",
              "      <th>yardline_100(t)</th>\n",
              "      <th>game_seconds_remaining(t)</th>\n",
              "      <th>drive(t)</th>\n",
              "      <th>qtr(t)</th>\n",
              "      <th>down(t)</th>\n",
              "      <th>goal_to_go(t)</th>\n",
              "      <th>ydstogo(t)</th>\n",
              "      <th>ydsnet(t)</th>\n",
              "      <th>yards_gained(t)</th>\n",
              "      <th>shotgun(t)</th>\n",
              "      <th>...</th>\n",
              "      <th>penalty_type_Player Out of Bounds on Kick(t+99)</th>\n",
              "      <th>penalty_type_Player Out of Bounds on Punt(t+99)</th>\n",
              "      <th>penalty_type_Roughing the Kicker(t+99)</th>\n",
              "      <th>penalty_type_Roughing the Passer(t+99)</th>\n",
              "      <th>penalty_type_Running Into the Kicker(t+99)</th>\n",
              "      <th>penalty_type_Short Free Kick(t+99)</th>\n",
              "      <th>penalty_type_Taunting(t+99)</th>\n",
              "      <th>penalty_type_Tripping(t+99)</th>\n",
              "      <th>penalty_type_Unnecessary Roughness(t+99)</th>\n",
              "      <th>penalty_type_Unsportsmanlike Conduct(t+99)</th>\n",
              "    </tr>\n",
              "  </thead>\n",
              "  <tbody>\n",
              "    <tr>\n",
              "      <th>0</th>\n",
              "      <td>30.0</td>\n",
              "      <td>3600.0</td>\n",
              "      <td>1.0</td>\n",
              "      <td>1.0</td>\n",
              "      <td>0.0</td>\n",
              "      <td>0.0</td>\n",
              "      <td>0.0</td>\n",
              "      <td>0.0</td>\n",
              "      <td>0.0</td>\n",
              "      <td>0.0</td>\n",
              "      <td>...</td>\n",
              "      <td>0.0</td>\n",
              "      <td>0.0</td>\n",
              "      <td>0.0</td>\n",
              "      <td>0.0</td>\n",
              "      <td>0.0</td>\n",
              "      <td>0.0</td>\n",
              "      <td>0.0</td>\n",
              "      <td>0.0</td>\n",
              "      <td>0.0</td>\n",
              "      <td>0.0</td>\n",
              "    </tr>\n",
              "    <tr>\n",
              "      <th>1</th>\n",
              "      <td>30.0</td>\n",
              "      <td>3600.0</td>\n",
              "      <td>1.0</td>\n",
              "      <td>1.0</td>\n",
              "      <td>0.0</td>\n",
              "      <td>0.0</td>\n",
              "      <td>0.0</td>\n",
              "      <td>31.0</td>\n",
              "      <td>0.0</td>\n",
              "      <td>0.0</td>\n",
              "      <td>...</td>\n",
              "      <td>0.0</td>\n",
              "      <td>0.0</td>\n",
              "      <td>0.0</td>\n",
              "      <td>0.0</td>\n",
              "      <td>0.0</td>\n",
              "      <td>0.0</td>\n",
              "      <td>0.0</td>\n",
              "      <td>0.0</td>\n",
              "      <td>0.0</td>\n",
              "      <td>0.0</td>\n",
              "    </tr>\n",
              "    <tr>\n",
              "      <th>2</th>\n",
              "      <td>30.0</td>\n",
              "      <td>3600.0</td>\n",
              "      <td>1.0</td>\n",
              "      <td>1.0</td>\n",
              "      <td>0.0</td>\n",
              "      <td>0.0</td>\n",
              "      <td>0.0</td>\n",
              "      <td>0.0</td>\n",
              "      <td>0.0</td>\n",
              "      <td>0.0</td>\n",
              "      <td>...</td>\n",
              "      <td>0.0</td>\n",
              "      <td>0.0</td>\n",
              "      <td>0.0</td>\n",
              "      <td>0.0</td>\n",
              "      <td>0.0</td>\n",
              "      <td>0.0</td>\n",
              "      <td>0.0</td>\n",
              "      <td>0.0</td>\n",
              "      <td>0.0</td>\n",
              "      <td>0.0</td>\n",
              "    </tr>\n",
              "    <tr>\n",
              "      <th>3</th>\n",
              "      <td>30.0</td>\n",
              "      <td>3600.0</td>\n",
              "      <td>1.0</td>\n",
              "      <td>1.0</td>\n",
              "      <td>0.0</td>\n",
              "      <td>0.0</td>\n",
              "      <td>0.0</td>\n",
              "      <td>0.0</td>\n",
              "      <td>0.0</td>\n",
              "      <td>0.0</td>\n",
              "      <td>...</td>\n",
              "      <td>0.0</td>\n",
              "      <td>0.0</td>\n",
              "      <td>0.0</td>\n",
              "      <td>0.0</td>\n",
              "      <td>0.0</td>\n",
              "      <td>0.0</td>\n",
              "      <td>0.0</td>\n",
              "      <td>0.0</td>\n",
              "      <td>0.0</td>\n",
              "      <td>0.0</td>\n",
              "    </tr>\n",
              "    <tr>\n",
              "      <th>4</th>\n",
              "      <td>30.0</td>\n",
              "      <td>3600.0</td>\n",
              "      <td>1.0</td>\n",
              "      <td>1.0</td>\n",
              "      <td>0.0</td>\n",
              "      <td>0.0</td>\n",
              "      <td>0.0</td>\n",
              "      <td>0.0</td>\n",
              "      <td>0.0</td>\n",
              "      <td>0.0</td>\n",
              "      <td>...</td>\n",
              "      <td>0.0</td>\n",
              "      <td>0.0</td>\n",
              "      <td>0.0</td>\n",
              "      <td>0.0</td>\n",
              "      <td>0.0</td>\n",
              "      <td>0.0</td>\n",
              "      <td>0.0</td>\n",
              "      <td>0.0</td>\n",
              "      <td>0.0</td>\n",
              "      <td>0.0</td>\n",
              "    </tr>\n",
              "  </tbody>\n",
              "</table>\n",
              "<p>5 rows × 17400 columns</p>\n",
              "</div>\n",
              "      <button class=\"colab-df-convert\" onclick=\"convertToInteractive('df-3adc1d28-4519-4856-8763-d91ce71fddc3')\"\n",
              "              title=\"Convert this dataframe to an interactive table.\"\n",
              "              style=\"display:none;\">\n",
              "        \n",
              "  <svg xmlns=\"http://www.w3.org/2000/svg\" height=\"24px\"viewBox=\"0 0 24 24\"\n",
              "       width=\"24px\">\n",
              "    <path d=\"M0 0h24v24H0V0z\" fill=\"none\"/>\n",
              "    <path d=\"M18.56 5.44l.94 2.06.94-2.06 2.06-.94-2.06-.94-.94-2.06-.94 2.06-2.06.94zm-11 1L8.5 8.5l.94-2.06 2.06-.94-2.06-.94L8.5 2.5l-.94 2.06-2.06.94zm10 10l.94 2.06.94-2.06 2.06-.94-2.06-.94-.94-2.06-.94 2.06-2.06.94z\"/><path d=\"M17.41 7.96l-1.37-1.37c-.4-.4-.92-.59-1.43-.59-.52 0-1.04.2-1.43.59L10.3 9.45l-7.72 7.72c-.78.78-.78 2.05 0 2.83L4 21.41c.39.39.9.59 1.41.59.51 0 1.02-.2 1.41-.59l7.78-7.78 2.81-2.81c.8-.78.8-2.07 0-2.86zM5.41 20L4 18.59l7.72-7.72 1.47 1.35L5.41 20z\"/>\n",
              "  </svg>\n",
              "      </button>\n",
              "      \n",
              "  <style>\n",
              "    .colab-df-container {\n",
              "      display:flex;\n",
              "      flex-wrap:wrap;\n",
              "      gap: 12px;\n",
              "    }\n",
              "\n",
              "    .colab-df-convert {\n",
              "      background-color: #E8F0FE;\n",
              "      border: none;\n",
              "      border-radius: 50%;\n",
              "      cursor: pointer;\n",
              "      display: none;\n",
              "      fill: #1967D2;\n",
              "      height: 32px;\n",
              "      padding: 0 0 0 0;\n",
              "      width: 32px;\n",
              "    }\n",
              "\n",
              "    .colab-df-convert:hover {\n",
              "      background-color: #E2EBFA;\n",
              "      box-shadow: 0px 1px 2px rgba(60, 64, 67, 0.3), 0px 1px 3px 1px rgba(60, 64, 67, 0.15);\n",
              "      fill: #174EA6;\n",
              "    }\n",
              "\n",
              "    [theme=dark] .colab-df-convert {\n",
              "      background-color: #3B4455;\n",
              "      fill: #D2E3FC;\n",
              "    }\n",
              "\n",
              "    [theme=dark] .colab-df-convert:hover {\n",
              "      background-color: #434B5C;\n",
              "      box-shadow: 0px 1px 3px 1px rgba(0, 0, 0, 0.15);\n",
              "      filter: drop-shadow(0px 1px 2px rgba(0, 0, 0, 0.3));\n",
              "      fill: #FFFFFF;\n",
              "    }\n",
              "  </style>\n",
              "\n",
              "      <script>\n",
              "        const buttonEl =\n",
              "          document.querySelector('#df-3adc1d28-4519-4856-8763-d91ce71fddc3 button.colab-df-convert');\n",
              "        buttonEl.style.display =\n",
              "          google.colab.kernel.accessAllowed ? 'block' : 'none';\n",
              "\n",
              "        async function convertToInteractive(key) {\n",
              "          const element = document.querySelector('#df-3adc1d28-4519-4856-8763-d91ce71fddc3');\n",
              "          const dataTable =\n",
              "            await google.colab.kernel.invokeFunction('convertToInteractive',\n",
              "                                                     [key], {});\n",
              "          if (!dataTable) return;\n",
              "\n",
              "          const docLinkHtml = 'Like what you see? Visit the ' +\n",
              "            '<a target=\"_blank\" href=https://colab.research.google.com/notebooks/data_table.ipynb>data table notebook</a>'\n",
              "            + ' to learn more about interactive tables.';\n",
              "          element.innerHTML = '';\n",
              "          dataTable['output_type'] = 'display_data';\n",
              "          await google.colab.output.renderOutput(dataTable, element);\n",
              "          const docLink = document.createElement('div');\n",
              "          docLink.innerHTML = docLinkHtml;\n",
              "          element.appendChild(docLink);\n",
              "        }\n",
              "      </script>\n",
              "    </div>\n",
              "  </div>\n",
              "  "
            ]
          },
          "metadata": {},
          "execution_count": 29
        }
      ]
    },
    {
      "cell_type": "code",
      "source": [
        "# define dataset \n",
        "\n",
        "X = ddf.replace((np.inf, -np.inf, np.nan), 0).reset_index(drop=True)\n",
        "y = game_results.home_team_wins"
      ],
      "metadata": {
        "id": "i9LF7Ce6cye8"
      },
      "execution_count": null,
      "outputs": []
    },
    {
      "cell_type": "code",
      "source": [
        "# function used to test different models\n",
        "def evaluate_model(model, X, y):\n",
        "\tcv = RepeatedStratifiedKFold(n_splits=10, n_repeats=3, random_state=1)\n",
        "\tscores = cross_val_score(model, X, y, scoring='accuracy', cv=cv, n_jobs=-1, error_score='raise')\n",
        "\treturn scores"
      ],
      "metadata": {
        "id": "Tm1aKvCadwPf"
      },
      "execution_count": null,
      "outputs": []
    },
    {
      "cell_type": "code",
      "source": [
        "# list of models to evaluate\n",
        "def get_models():\n",
        "\tmodels = dict()\n",
        "\tmodels['lr'] = LogisticRegression()\n",
        "\tmodels['knn'] = KNeighborsClassifier()\n",
        "\tmodels['cart'] = DecisionTreeClassifier()\n",
        "\tmodels['svm'] = SVC()\n",
        "\tmodels['bayes'] = GaussianNB()\n",
        "\treturn models\n"
      ],
      "metadata": {
        "id": "PuT-nc5Pc-LM"
      },
      "execution_count": null,
      "outputs": []
    },
    {
      "cell_type": "code",
      "source": [
        "# get the models to evaluate\n",
        "models = get_models()\n",
        "# evaluate the models and store results\n",
        "results, names = list(), list()\n",
        "for name, model in models.items():\n",
        "\tscores = evaluate_model(model, X, y)\n",
        "\tresults.append(scores)\n",
        "\tnames.append(name)\n",
        "\tprint('>%s %.3f (%.3f)' % (name, mean(scores), std(scores)))"
      ],
      "metadata": {
        "colab": {
          "base_uri": "https://localhost:8080/"
        },
        "id": "Zpqg-PFTdaWM",
        "outputId": "ad024b9b-9ad8-4941-ebbc-6887f0994bcf"
      },
      "execution_count": null,
      "outputs": [
        {
          "output_type": "stream",
          "name": "stdout",
          "text": [
            ">lr 0.575 (0.029)\n",
            ">knn 0.509 (0.025)\n",
            ">cart 0.534 (0.023)\n",
            ">svm 0.570 (0.001)\n",
            ">bayes 0.510 (0.027)\n"
          ]
        }
      ]
    },
    {
      "cell_type": "code",
      "source": [
        "# plot model performance for comparison\n",
        "pyplot.boxplot(results, labels=names, showmeans=True)\n",
        "pyplot.show()"
      ],
      "metadata": {
        "colab": {
          "base_uri": "https://localhost:8080/",
          "height": 309
        },
        "id": "usgX1P9Sdc3w",
        "outputId": "ce816df5-a010-4762-eabd-da8db5a1f56f"
      },
      "execution_count": null,
      "outputs": [
        {
          "output_type": "display_data",
          "data": {
            "text/plain": [
              "<Figure size 460.8x345.6 with 1 Axes>"
            ],
            "image/png": "[encoded data removed]"
          },
          "metadata": {
            "needs_background": "light"
          }
        }
      ]
    },
    {
      "cell_type": "code",
      "source": [
        "# create train and test versions\n",
        "X_train, X_test, y_train, y_test = train_test_split(X, y, test_size = 0.20)"
      ],
      "metadata": {
        "id": "TqP5U-LkfR3O"
      },
      "execution_count": null,
      "outputs": []
    },
    {
      "cell_type": "code",
      "source": [
        "pipe_lr = make_pipeline(StandardScaler(), LogisticRegression())\n",
        "pipe_lr.fit(X_train, y_train)  # apply scaling on training data\n",
        "Pipeline(steps=[('standardscaler', StandardScaler()),\n",
        "                ('logisticregression', LogisticRegression())])\n",
        "\n",
        "predictions = pipe_lr.predict(X_test)\n",
        "print(accuracy_score(y_test, predictions))"
      ],
      "metadata": {
        "colab": {
          "base_uri": "https://localhost:8080/"
        },
        "id": "LoqamaV2APS9",
        "outputId": "6c3d961e-e48e-465c-b05c-fcdcbaa9cf02"
      },
      "execution_count": null,
      "outputs": [
        {
          "output_type": "stream",
          "name": "stdout",
          "text": [
            "0.5652173913043478\n"
          ]
        }
      ]
    },
    {
      "cell_type": "code",
      "source": [
        "train_probs = pipe_lr.predict_proba(X_train)[:,1] \n",
        "probs = pipe_lr.predict_proba(X_test)[:, 1]\n",
        "train_predictions = pipe_lr.predict(X_train)\n",
        "y_pred = pipe_lr.predict(X_test)"
      ],
      "metadata": {
        "id": "rr1vqO8P-Y-R"
      },
      "execution_count": null,
      "outputs": []
    },
    {
      "cell_type": "code",
      "source": [
        "# visualize confusion matrix with seaborn heatmap\n",
        "cm = confusion_matrix(y_test, y_pred)\n",
        "cm_matrix = pd.DataFrame(data=cm, columns=['Actual Positive:1', 'Actual Negative:0'], \n",
        "                                 index=['Predict Positive:1', 'Predict Negative:0'])\n",
        "\n",
        "sns.heatmap(cm_matrix, annot=True, fmt='d', cmap='YlGnBu')"
      ],
      "metadata": {
        "colab": {
          "base_uri": "https://localhost:8080/",
          "height": 331
        },
        "id": "Hr50TzfC-5JE",
        "outputId": "3732a623-abe7-4171-aa09-18ef0f8f9f5b"
      },
      "execution_count": null,
      "outputs": [
        {
          "output_type": "execute_result",
          "data": {
            "text/plain": [
              "<matplotlib.axes._subplots.AxesSubplot at 0x7feaf8916790>"
            ]
          },
          "metadata": {},
          "execution_count": 38
        },
        {
          "output_type": "display_data",
          "data": {
            "text/plain": [
              "<Figure size 460.8x345.6 with 2 Axes>"
            ],
            "image/png": "[encoded data removed]"
          },
          "metadata": {
            "needs_background": "light"
          }
        }
      ]
    },
    {
      "cell_type": "code",
      "source": [
        "pipe_svc = make_pipeline(StandardScaler(), SVC(probability=True))\n",
        "pipe_svc.fit(X_train, y_train)  # apply scaling on training data\n",
        "Pipeline(steps=[('standardscaler', StandardScaler()),\n",
        "                ('supportvectorclassification',SVC())])\n",
        "\n",
        "predictions = pipe_svc.predict(X_test)\n",
        "print(accuracy_score(y_test, predictions))"
      ],
      "metadata": {
        "colab": {
          "base_uri": "https://localhost:8080/"
        },
        "id": "Nmi7f_zyAfqR",
        "outputId": "19030c21-a719-4d01-87c7-5a2d2620a36b"
      },
      "execution_count": null,
      "outputs": [
        {
          "output_type": "stream",
          "name": "stdout",
          "text": [
            "0.5770750988142292\n"
          ]
        }
      ]
    },
    {
      "cell_type": "code",
      "source": [
        "train_probs = pipe_svc.predict_proba(X_train)[:,1] \n",
        "probs = pipe_svc.predict_proba(X_test)[:, 1]\n",
        "train_predictions = pipe_svc.predict(X_train)\n",
        "y_pred = pipe_svc.predict(X_test)"
      ],
      "metadata": {
        "id": "Wi24_8aXjuvn"
      },
      "execution_count": null,
      "outputs": []
    },
    {
      "cell_type": "code",
      "source": [
        "# visualize confusion matrix with seaborn heatmap\n",
        "cm = confusion_matrix(y_test, y_pred)\n",
        "cm_matrix = pd.DataFrame(data=cm, columns=['Actual Positive:1', 'Actual Negative:0'], \n",
        "                                 index=['Predict Positive:1', 'Predict Negative:0'])\n",
        "\n",
        "sns.heatmap(cm_matrix, annot=True, fmt='d', cmap='YlGnBu')\n"
      ],
      "metadata": {
        "colab": {
          "base_uri": "https://localhost:8080/",
          "height": 327
        },
        "id": "4OIIpIALi7d0",
        "outputId": "ec9e4518-47f7-490f-bfc8-a9a2cb3ffa33"
      },
      "execution_count": null,
      "outputs": [
        {
          "output_type": "execute_result",
          "data": {
            "text/plain": [
              "<matplotlib.axes._subplots.AxesSubplot at 0x7feaf8916650>"
            ]
          },
          "metadata": {},
          "execution_count": 41
        },
        {
          "output_type": "display_data",
          "data": {
            "text/plain": [
              "<Figure size 460.8x345.6 with 2 Axes>"
            ],
            "image/png": "[encoded data removed]"
          },
          "metadata": {
            "needs_background": "light"
          }
        }
      ]
    },
    {
      "cell_type": "code",
      "source": [
        "# intialized Random Forest Classifier\n",
        "from sklearn.ensemble import RandomForestClassifier\n",
        "rfc = RandomForestClassifier(\n",
        "                      min_samples_leaf=50,\n",
        "                      n_estimators=150,\n",
        "                      bootstrap=True,\n",
        "                      oob_score=True,\n",
        "                      n_jobs=-1,\n",
        "                      random_state=50,\n",
        "                      max_features='auto')\n",
        "cv = RepeatedStratifiedKFold(n_splits=10, n_repeats=3, random_state=1)\n",
        "n_scores = cross_val_score(model, X, y, scoring='accuracy', cv=cv, n_jobs=-1, error_score='raise')\n",
        "# report performance\n",
        "print('Accuracy: %.3f (%.3f)' % (mean(n_scores), std(n_scores)))"
      ],
      "metadata": {
        "id": "GMfyqXDdCVdP",
        "colab": {
          "base_uri": "https://localhost:8080/"
        },
        "outputId": "49082040-207a-4b4c-d644-78a1f7ca2123"
      },
      "execution_count": null,
      "outputs": [
        {
          "output_type": "stream",
          "name": "stdout",
          "text": [
            "Accuracy: 0.510 (0.027)\n"
          ]
        }
      ]
    },
    {
      "cell_type": "code",
      "source": [
        "#fit Random Forest Classifier\n",
        "rfc.fit(X_train,y_train)"
      ],
      "metadata": {
        "colab": {
          "base_uri": "https://localhost:8080/"
        },
        "id": "pAF2du27k25P",
        "outputId": "c89b885d-5ab7-430b-b58a-a10aa01cfcac"
      },
      "execution_count": null,
      "outputs": [
        {
          "output_type": "execute_result",
          "data": {
            "text/plain": [
              "RandomForestClassifier(min_samples_leaf=50, n_estimators=150, n_jobs=-1,\n",
              "                       oob_score=True, random_state=50)"
            ]
          },
          "metadata": {},
          "execution_count": 43
        }
      ]
    },
    {
      "cell_type": "code",
      "source": [
        "train_probs = rfc.predict_proba(X_train)[:,1] \n",
        "probs = rfc.predict_proba(X_test)[:, 1]\n",
        "train_predictions = rfc.predict(X_train)\n",
        "y_pred = rfc.predict(X_test)"
      ],
      "metadata": {
        "id": "XVkRl3DehZ3A"
      },
      "execution_count": null,
      "outputs": []
    },
    {
      "cell_type": "code",
      "source": [
        "# visualize confusion matrix with seaborn heatmap\n",
        "cm = confusion_matrix(y_test, y_pred)\n",
        "cm_matrix = pd.DataFrame(data=cm, columns=['Actual Positive:1', 'Actual Negative:0'], \n",
        "                                 index=['Predict Positive:1', 'Predict Negative:0'])\n",
        "\n",
        "sns.heatmap(cm_matrix, annot=True, fmt='d', cmap='YlGnBu')\n",
        "\n"
      ],
      "metadata": {
        "colab": {
          "base_uri": "https://localhost:8080/",
          "height": 329
        },
        "id": "Pn6TIWgukYC9",
        "outputId": "bceb9a61-485c-4d26-8df5-64db83d65bca"
      },
      "execution_count": null,
      "outputs": [
        {
          "output_type": "execute_result",
          "data": {
            "text/plain": [
              "<matplotlib.axes._subplots.AxesSubplot at 0x7feaf8a41050>"
            ]
          },
          "metadata": {},
          "execution_count": 45
        },
        {
          "output_type": "display_data",
          "data": {
            "text/plain": [
              "<Figure size 460.8x345.6 with 2 Axes>"
            ],
            "image/png": "[encoded data removed]"
          },
          "metadata": {
            "needs_background": "light"
          }
        }
      ]
    },
    {
      "cell_type": "code",
      "source": [
        "print(rfc.feature_importances_)\n",
        "print(f\" There are {len(rfc.feature_importances_)} features in total\")"
      ],
      "metadata": {
        "colab": {
          "base_uri": "https://localhost:8080/"
        },
        "id": "Cfkg0EXCn9vE",
        "outputId": "ac91e703-aa1e-42b7-cb64-08a4e053cab5"
      },
      "execution_count": null,
      "outputs": [
        {
          "output_type": "stream",
          "name": "stdout",
          "text": [
            "[0. 0. 0. ... 0. 0. 0.]\n",
            " There are 17400 features in total\n"
          ]
        }
      ]
    },
    {
      "cell_type": "code",
      "source": [
        "feature_importances = list(zip(X_train, rfc.feature_importances_))\n",
        "# sort the feature importances by most important first\n",
        "feature_importances_ranked = sorted(feature_importances, key = lambda x: x[1], reverse = True)\n",
        "# print out the feature and importances\n",
        "[print('Feature: {:35} Importance: {}'.format(*pair)) for pair in feature_importances_ranked[:25]];"
      ],
      "metadata": {
        "colab": {
          "base_uri": "https://localhost:8080/"
        },
        "id": "viP0fDrCoRFt",
        "outputId": "531c0817-5d07-47ab-83e4-cd5dfd22a2db"
      },
      "execution_count": null,
      "outputs": [
        {
          "output_type": "stream",
          "name": "stdout",
          "text": [
            "Feature: total_away_score(t+94)              Importance: 0.008899538550466449\n",
            "Feature: total_home_score(t+98)              Importance: 0.008872178189298209\n",
            "Feature: total_away_score(t+83)              Importance: 0.008572524394847528\n",
            "Feature: total_home_score(t+57)              Importance: 0.008268602749548742\n",
            "Feature: total_home_score(t+94)              Importance: 0.0081428314316074\n",
            "Feature: total_home_score(t+90)              Importance: 0.00785776084226108\n",
            "Feature: total_home_score(t+83)              Importance: 0.007846848577401241\n",
            "Feature: total_away_score(t+77)              Importance: 0.007807289068756573\n",
            "Feature: total_home_score(t+77)              Importance: 0.0076518491853105886\n",
            "Feature: total_home_score(t+89)              Importance: 0.00727272698307631\n",
            "Feature: total_away_score(t+92)              Importance: 0.007139399275162406\n",
            "Feature: total_away_score(t+97)              Importance: 0.0070505388146626805\n",
            "Feature: total_home_score(t+80)              Importance: 0.006714821870909062\n",
            "Feature: total_away_score(t+91)              Importance: 0.0066216586865333665\n",
            "Feature: total_home_score(t+87)              Importance: 0.006596938474539001\n",
            "Feature: total_away_score(t+60)              Importance: 0.006549392649033385\n",
            "Feature: total_home_score(t+74)              Importance: 0.006519147097368886\n",
            "Feature: total_away_score(t+85)              Importance: 0.006470953237469312\n",
            "Feature: total_home_score(t+71)              Importance: 0.006417314255480809\n",
            "Feature: total_home_score(t+78)              Importance: 0.006369519798916333\n",
            "Feature: total_home_score(t+99)              Importance: 0.0062249813544468565\n",
            "Feature: total_away_score(t+96)              Importance: 0.005931421318175428\n",
            "Feature: total_away_score(t+98)              Importance: 0.005793359345042339\n",
            "Feature: total_home_score(t+82)              Importance: 0.0057158036344664796\n",
            "Feature: total_away_score(t+88)              Importance: 0.005553674580481897\n"
          ]
        }
      ]
    },
    {
      "cell_type": "code",
      "source": [
        "feature_names_25 = [i[0] for i in feature_importances_ranked[:25]]\n",
        "y_ticks = np.arange(0, len(feature_names_25))\n",
        "x_axis = [i[1] for i in feature_importances_ranked[:25]]\n",
        "plt.figure(figsize = (8, 8))\n",
        "plt.barh(feature_names_25, x_axis)   #horizontal barplot\n",
        "plt.title('Random Forest Feature Importance (Top 25)',\n",
        "          fontdict= {'fontname':'Comic Sans MS','fontsize' : 14})\n",
        "plt.xlabel('Features',fontdict= {'fontsize' : 16})\n",
        "plt.show()"
      ],
      "metadata": {
        "colab": {
          "base_uri": "https://localhost:8080/",
          "height": 537
        },
        "id": "SgXgpzmw3VfJ",
        "outputId": "b9ef4d27-a89a-4bd4-ec32-b6be07e1ce78"
      },
      "execution_count": null,
      "outputs": [
        {
          "output_type": "stream",
          "name": "stderr",
          "text": [
            "findfont: Font family ['Comic Sans MS'] not found. Falling back to DejaVu Sans.\n"
          ]
        },
        {
          "output_type": "display_data",
          "data": {
            "text/plain": [
              "<Figure size 576x576 with 1 Axes>"
            ],
            "image/png": "[encoded data removed]"
          },
          "metadata": {
            "needs_background": "light"
          }
        }
      ]
    },
    {
      "cell_type": "code",
      "source": [
        "# function to setup classifier\n",
        "def classifier(df):\n",
        "  X = ddf.replace((np.inf, -np.inf, np.nan), 0).reset_index(drop=True)\n",
        "  y = game_results.home_team_wins\n",
        "  cv = RepeatedStratifiedKFold(n_splits=10, n_repeats=3, random_state=1)\n",
        "  n_scores = cross_val_score(model, X, y, scoring='accuracy', cv=cv, n_jobs=-1, error_score='raise')\n",
        "  # report performance\n",
        "  return mean(n_scores)"
      ],
      "metadata": {
        "id": "21WiGy9EQyGz"
      },
      "execution_count": null,
      "outputs": []
    },
    {
      "cell_type": "code",
      "source": [
        "# function to iterate over # of plays used to predict\n",
        "plays_list=[]\n",
        "acur_scores=[]\n",
        "for plays in range(10,130,10):\n",
        "  ddf = process_all_games(df,plays)\n",
        "  plays_list.append(plays)\n",
        "  scr=classifier(ddf)\n",
        "  acur_scores.append(scr)\n",
        "\n",
        "print(acur_scores)\n"
      ],
      "metadata": {
        "id": "c4HBuFjoQIqd"
      },
      "execution_count": null,
      "outputs": []
    },
    {
      "cell_type": "code",
      "source": [
        "acur_df=pd.DataFrame(acur_scores)\n",
        "acur_df['plays']=plays_list\n",
        "acur_df.columns=['mean_score','no_of_plays']\n",
        "acur_df.plot(x='no_of_plays', y='mean_score')"
      ],
      "metadata": {
        "id": "6zlgJ5rHoFl5"
      },
      "execution_count": null,
      "outputs": []
    }
  ]
}